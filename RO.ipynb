{
 "cells": [
  {
   "cell_type": "code",
   "execution_count": 2,
   "metadata": {},
   "outputs": [],
   "source": [
    "import mlrose_hiive\n",
    "import numpy as np\n",
    "\n",
    "from sklearn.datasets import load_iris\n",
    "from sklearn.model_selection import train_test_split\n",
    "from sklearn.preprocessing import MinMaxScaler, OneHotEncoder\n",
    "from sklearn.metrics import accuracy_score, f1_score\n",
    "import time\n",
    "import matplotlib.pyplot as plt"
   ]
  },
  {
   "cell_type": "markdown",
   "metadata": {},
   "source": [
    "Portion 1. 8 Queens Problem\n",
    "\n",
    "RH vs SA vs GA vs MIMIC\n",
    "Seems like SA have a edge."
   ]
  },
  {
   "cell_type": "code",
   "execution_count": 29,
   "metadata": {},
   "outputs": [],
   "source": [
    "\n",
    "    \n",
    "from cmath import inf\n",
    "# Define alternative N-Queens fitness function for maximization problem\n",
    "def queens_max(state):\n",
    "\n",
    "   # Initialize counter\n",
    "    fitness_cnt = 0\n",
    "\n",
    "          # For all pairs of queens\n",
    "    for i in range(len(state) - 1):\n",
    "        for j in range(i + 1, len(state)):\n",
    "\n",
    "                # Check for horizontal, diagonal-up and diagonal-down attacks\n",
    "            if (state[j] != state[i]) \\\n",
    "            and (state[j] != state[i] + (j - i)) \\\n",
    "            and (state[j] != state[i] - (j - i)):\n",
    "\n",
    "                   # If no attacks, then increment counter\n",
    "                fitness_cnt += 1\n",
    "\n",
    "    return fitness_cnt\n",
    "# Initialize custom fitness function object\n",
    "fitness_cust = mlrose_hiive.CustomFitness(queens_max)\n",
    "problem = mlrose_hiive.DiscreteOpt(length = 16, fitness_fn = fitness_cust, maximize=True, max_val=16)\n",
    "schedule = mlrose_hiive.ExpDecay()\n",
    "#init_state = np.array([0, 2, 2, 3, 4, 5, 6, 7])\n",
    "init_state = np.array([0, 2, 2, 3, 4, 5, 6, 7,0, 2, 2, 3, 4, 5, 6, 7])\n",
    "\n",
    "rs_list = list(range(100))"
   ]
  },
  {
   "cell_type": "code",
   "execution_count": 31,
   "metadata": {},
   "outputs": [
    {
     "name": "stdout",
     "output_type": "stream",
     "text": [
      "96\n"
     ]
    }
   ],
   "source": [
    "###SA\n",
    "success_time_SA = []\n",
    "failed_time_SA =[]\n",
    "fit_curve_arr_SA = np.zeros((10000,10000))\n",
    "fittness_list = []\n",
    "time_list = []\n",
    "win_SA = 0\n",
    "\n",
    "for seed in rs_list:\n",
    "\n",
    "    start_time = time.time()\n",
    "    best = mlrose_hiive.simulated_annealing(problem, schedule = schedule, max_attempts = 100, \n",
    "                                                      max_iters = 10000, init_state = init_state,\n",
    "                                                      random_state = seed,curve=True)\n",
    "    time_buff =time.time() - start_time\n",
    "    \n",
    "    best_state, best_fitness = best[0],best[1]\n",
    "    if best_fitness == 120:\n",
    "        success_time_SA.append(time_buff)\n",
    "        win_SA +=1\n",
    "    else:\n",
    "        failed_time_SA.append(time_buff)\n",
    "    time_list.append(time_buff)\n",
    "    fittness_list.append(best_fitness)\n",
    "    fit_curve = np.asarray(best[2][:,0]).flatten()\n",
    "    if np.shape(fit_curve)[0]< 10000:\n",
    "        #print(np.shape(fit_curve)[0])\n",
    "        ###add some element to the array to make it size 4000\n",
    "        dummy= np.asarray([best[2][:,0][-1]]*(10000-len(best[2][:,0])))\n",
    "        #print(np.shape(dummy))\n",
    "        #print(np.shape(fit_curve))\n",
    "        fit_curve = np.concatenate((fit_curve,dummy),axis=0)\n",
    "\n",
    "    fit_curve_arr_SA[seed,:] = fit_curve\n",
    "print(win_SA)   \n"
   ]
  },
  {
   "cell_type": "code",
   "execution_count": 22,
   "metadata": {},
   "outputs": [
    {
     "name": "stdout",
     "output_type": "stream",
     "text": [
      "28.0\n"
     ]
    }
   ],
   "source": [
    "print(max(fittness_list))"
   ]
  },
  {
   "cell_type": "code",
   "execution_count": 23,
   "metadata": {},
   "outputs": [
    {
     "name": "stdout",
     "output_type": "stream",
     "text": [
      "91\n"
     ]
    }
   ],
   "source": [
    "###GA\n",
    "success_time_GA = []\n",
    "failed_time_GA =[]\n",
    "fit_curve_arr_GA = np.zeros((100,100))\n",
    "fittness_list = []\n",
    "time_list = []\n",
    "win_GA = 0\n",
    "\n",
    "for seed in rs_list:\n",
    "\n",
    "    start_time = time.time()\n",
    "    best = mlrose_hiive.genetic_alg(problem,pop_size=300, max_attempts = 100,max_iters=100,random_state = seed,curve=True)\n",
    "    time_buff =time.time() - start_time\n",
    "    \n",
    "    best_state, best_fitness = best[0],best[1]\n",
    "    if best_fitness == 28:\n",
    "        success_time_GA.append(time_buff)\n",
    "        win_GA +=1\n",
    "    else:\n",
    "        failed_time_GA.append(time_buff)\n",
    "    time_list.append(time_buff)\n",
    "    #print(best_fitness)\n",
    "    fittness_list.append(best_fitness)\n",
    "    fit_curve = np.asarray(best[2][:,0]).flatten()\n",
    "    #print(np.shape(fit_curve)[0])\n",
    "    if np.shape(fit_curve)[0]< 100:\n",
    "        #print(np.shape(fit_curve)[0])\n",
    "        ###add some element to the array to make it size 4000\n",
    "        dummy= np.asarray([best[2][:,0][-1]]*(100-len(best[2][:,0])))\n",
    "        #print(np.shape(dummy))\n",
    "        #print(np.shape(fit_curve))\n",
    "        fit_curve = np.concatenate((fit_curve,dummy),axis=0)\n",
    "\n",
    "    fit_curve_arr_GA[seed,:] = fit_curve\n",
    "print(win_GA)\n"
   ]
  },
  {
   "cell_type": "code",
   "execution_count": 24,
   "metadata": {},
   "outputs": [
    {
     "name": "stdout",
     "output_type": "stream",
     "text": [
      "28.0\n"
     ]
    }
   ],
   "source": [
    "print(max(fittness_list))"
   ]
  },
  {
   "cell_type": "code",
   "execution_count": 25,
   "metadata": {},
   "outputs": [
    {
     "name": "stdout",
     "output_type": "stream",
     "text": [
      "33\n"
     ]
    }
   ],
   "source": [
    "###MIMIC\n",
    "success_time_MIMIC = []\n",
    "failed_time_MIMIC =[]\n",
    "fit_curve_arr_MIMIC = np.zeros((100,100))\n",
    "fittness_list = []\n",
    "time_list = []\n",
    "win_MIMIC = 0\n",
    "\n",
    "for seed in rs_list:\n",
    "\n",
    "    start_time = time.time()\n",
    "    best = mlrose_hiive.mimic(problem,pop_size=300, max_attempts = 100, \n",
    "                                                      max_iters = 100,\n",
    "                                                      random_state = seed,curve=True)\n",
    "    time_buff =time.time() - start_time\n",
    "    \n",
    "    best_state, best_fitness = best[0],best[1]\n",
    "    if best_fitness == 28:\n",
    "        success_time_MIMIC.append(time_buff)\n",
    "        win_MIMIC +=1\n",
    "    else:\n",
    "        failed_time_MIMIC.append(time_buff)\n",
    "    time_list.append(time_buff)\n",
    "    fittness_list.append(best_fitness)\n",
    "    fit_curve = np.asarray(best[2][:,0]).flatten()\n",
    "    #print(np.shape(fit_curve)[0])\n",
    "    if np.shape(fit_curve)[0]< 100:\n",
    "        #print(np.shape(fit_curve)[0])\n",
    "        ###add some element to the array to make it size 4000\n",
    "        dummy= np.asarray([best[2][:,0][-1]]*(100-len(best[2][:,0])))\n",
    "        #print(np.shape(dummy))\n",
    "        #print(np.shape(fit_curve))\n",
    "        fit_curve = np.concatenate((fit_curve,dummy),axis=0)\n",
    "\n",
    "    fit_curve_arr_MIMIC[seed,:] = fit_curve\n",
    "print(win_MIMIC)"
   ]
  },
  {
   "cell_type": "code",
   "execution_count": 26,
   "metadata": {},
   "outputs": [
    {
     "name": "stdout",
     "output_type": "stream",
     "text": [
      "28.0\n"
     ]
    }
   ],
   "source": [
    "print(max(fittness_list))"
   ]
  },
  {
   "cell_type": "code",
   "execution_count": 33,
   "metadata": {},
   "outputs": [
    {
     "name": "stdout",
     "output_type": "stream",
     "text": [
      "3\n"
     ]
    }
   ],
   "source": [
    "###RHC \n",
    "success_time_RHC = []\n",
    "failed_time_RHC =[]\n",
    "fit_curve_arr_RHC = np.zeros((10000,10000))\n",
    "fittness_list = []\n",
    "time_list = []\n",
    "win_RHC = 0\n",
    "\n",
    "for seed in rs_list:\n",
    "\n",
    "    start_time = time.time()\n",
    "    best = mlrose_hiive.random_hill_climb(problem,max_attempts = 10000, \n",
    "                                                      max_iters = 10000,\n",
    "                                                      random_state = seed,curve=True)\n",
    "    time_buff =time.time() - start_time\n",
    "    \n",
    "    best_state, best_fitness = best[0],best[1]\n",
    "    if best_fitness == 120:\n",
    "        success_time_RHC.append(time_buff)\n",
    "        win_RHC +=1\n",
    "    else:\n",
    "        failed_time_RHC.append(time_buff)\n",
    "    time_list.append(time_buff)\n",
    "    fittness_list.append(best_fitness)\n",
    "    fit_curve = np.asarray(best[2][:,0]).flatten()\n",
    "    #print(np.shape(fit_curve)[0])\n",
    "    if np.shape(fit_curve)[0]< 10000:\n",
    "        #print(np.shape(fit_curve)[0])\n",
    "        ###add some element to the array to make it size 4000\n",
    "        dummy= np.asarray([best[2][:,0][-1]]*(10000-len(best[2][:,0])))\n",
    "        #print(np.shape(dummy))\n",
    "        #print(np.shape(fit_curve))\n",
    "        fit_curve = np.concatenate((fit_curve,dummy),axis=0)\n",
    "\n",
    "    fit_curve_arr_RHC[seed,:] = fit_curve\n",
    "print(win_RHC)"
   ]
  },
  {
   "cell_type": "code",
   "execution_count": 35,
   "metadata": {},
   "outputs": [
    {
     "data": {
      "image/png": "[encoded data removed]",
      "text/plain": [
       "<Figure size 432x288 with 1 Axes>"
      ]
     },
     "metadata": {
      "needs_background": "light"
     },
     "output_type": "display_data"
    }
   ],
   "source": [
    "#plt.scatter([0,1,2,3,4,5,6,7],[success_time_RHC,failed_time_RHC,success_time_SA,failed_time_SA,success_time_GA,failed_time_GA,success_time_MIMIC,failed_time_MIMIC])\n",
    "time_list = [np.mean(success_time_RHC),np.mean(failed_time_RHC),np.mean(success_time_SA),np.mean(failed_time_SA)]\n",
    "time_list_error = [np.std(success_time_RHC),np.std(failed_time_RHC),np.std(success_time_SA),np.std(failed_time_SA)]\n",
    "time_label_list=['RHC_S','RHC_F','SA_S','SA_F']\n",
    "plt.scatter([0,1,2,3],time_list)\n",
    "plt.errorbar([0,1,2,3],time_list,yerr=time_list_error,fmt=\"o\")\n",
    "#print(time_list)\n",
    "plt.xticks([0,1,2,3],time_label_list)\n",
    "#plt.yscale('log')\n",
    "plt.ylabel('Average Run Time')\n",
    "plt.xlabel('Random Optimization Algo')\n",
    "plt.title('Average Run Time of Each Method(16 Queens)')\n",
    "plt.savefig('Figure_5.png')"
   ]
  },
  {
   "cell_type": "code",
   "execution_count": null,
   "metadata": {},
   "outputs": [
    {
     "name": "stdout",
     "output_type": "stream",
     "text": [
      "28.0\n"
     ]
    }
   ],
   "source": [
    "print(max(fittness_list))"
   ]
  },
  {
   "cell_type": "code",
   "execution_count": 28,
   "metadata": {},
   "outputs": [
    {
     "name": "stdout",
     "output_type": "stream",
     "text": [
      "[8, 1, 91, 33]\n"
     ]
    }
   ],
   "source": [
    "print([win_RHC,win_SA,win_GA,win_MIMIC])"
   ]
  },
  {
   "cell_type": "code",
   "execution_count": 10,
   "metadata": {},
   "outputs": [
    {
     "data": {
      "image/png": "[encoded data removed]",
      "text/plain": [
       "<Figure size 432x288 with 1 Axes>"
      ]
     },
     "metadata": {
      "needs_background": "light"
     },
     "output_type": "display_data"
    }
   ],
   "source": [
    "fit_curve_mean_MIMIC = np.mean(fit_curve_arr_MIMIC,axis=0)\n",
    "fit_curve_std_MIMIC = np.std(fit_curve_arr_MIMIC,axis=0)\n",
    "fit_curve_mean_GA = np.mean(fit_curve_arr_GA,axis=0)\n",
    "fit_curve_std_GA = np.std(fit_curve_arr_GA,axis=0)\n",
    "fit_curve_mean_SA = np.mean(fit_curve_arr_SA,axis=0)\n",
    "fit_curve_std_SA = np.std(fit_curve_arr_SA,axis=0)\n",
    "fit_curve_mean_RHC = np.mean(fit_curve_arr_RHC,axis=0)\n",
    "fit_curve_std_RHC = np.std(fit_curve_arr_RHC,axis=0)\n",
    "plt.plot(fit_curve_mean_RHC,label='RHC')\n",
    "plt.plot(fit_curve_mean_MIMIC,label='MIMIC')\n",
    "\n",
    "plt.fill_between(\n",
    "    range(100),\n",
    "    fit_curve_mean_RHC - fit_curve_std_RHC,\n",
    "    fit_curve_mean_RHC+ fit_curve_std_RHC,\n",
    "    alpha=0.3,\n",
    "    color=\"b\",\n",
    "    lw=2,\n",
    ")\n",
    "\n",
    "plt.fill_between(\n",
    "    range(100),\n",
    "    fit_curve_mean_MIMIC - fit_curve_std_MIMIC,\n",
    "    fit_curve_mean_MIMIC+ fit_curve_std_MIMIC,\n",
    "    alpha=0.2,\n",
    "    color=\"darkorange\",\n",
    "    lw=2,\n",
    ")\n",
    "\n",
    "plt.plot(fit_curve_mean_SA,label='SA')\n",
    "\n",
    "plt.fill_between(\n",
    "    range(100),\n",
    "    fit_curve_mean_SA - fit_curve_std_SA,\n",
    "    fit_curve_mean_SA+ fit_curve_std_SA,\n",
    "    alpha=0.2,\n",
    "    color=\"green\",\n",
    "    lw=2,\n",
    ")\n",
    "\n",
    "plt.plot(fit_curve_mean_GA,label='GA')\n",
    "\n",
    "plt.fill_between(\n",
    "    range(100),\n",
    "    fit_curve_mean_GA - fit_curve_std_GA,\n",
    "    fit_curve_mean_GA+ fit_curve_std_GA,\n",
    "    alpha=0.2,\n",
    "    color=\"red\",\n",
    "    lw=2,\n",
    ")\n",
    "\n",
    "plt.legend()\n",
    "plt.title('Mean Fittness vs Optimization Iteration of Different Algo(16 Queens)')\n",
    "plt.xlabel('Iteration')\n",
    "#plt.yscale('log')\n",
    "plt.ylabel('Fittness')\n",
    "plt.savefig('Figure_4.png')"
   ]
  },
  {
   "cell_type": "code",
   "execution_count": 14,
   "metadata": {},
   "outputs": [
    {
     "name": "stdout",
     "output_type": "stream",
     "text": [
      "[0, 0, 12, 0]\n"
     ]
    },
    {
     "data": {
      "image/png": "[encoded data removed]",
      "text/plain": [
       "<Figure size 432x288 with 1 Axes>"
      ]
     },
     "metadata": {
      "needs_background": "light"
     },
     "output_type": "display_data"
    }
   ],
   "source": [
    "plt.plot([0,1,2,3],[win_RHC,win_SA,win_GA,win_MIMIC])\n",
    "plt.xticks([0,1,2,3],['RHC','SA','GA','MIMIC'])\n",
    "plt.ylabel('Success Run Counts(Out of 100)')\n",
    "plt.title('Random Optimization Method Success Rate(16 Queens)')\n",
    "plt.savefig('Figure_5.png')\n",
    "print([win_RHC,win_SA,win_GA,win_MIMIC])"
   ]
  },
  {
   "cell_type": "code",
   "execution_count": 13,
   "metadata": {},
   "outputs": [
    {
     "data": {
      "image/png": "[encoded data removed]",
      "text/plain": [
       "<Figure size 432x288 with 1 Axes>"
      ]
     },
     "metadata": {
      "needs_background": "light"
     },
     "output_type": "display_data"
    }
   ],
   "source": [
    "#plt.scatter([0,1,2,3,4,5,6,7],[success_time_RHC,failed_time_RHC,success_time_SA,failed_time_SA,success_time_GA,failed_time_GA,success_time_MIMIC,failed_time_MIMIC])\n",
    "time_list = [np.mean(success_time_RHC),np.mean(failed_time_RHC),np.mean(success_time_SA),np.mean(failed_time_SA),np.mean(success_time_GA),np.mean(failed_time_GA),np.mean(success_time_MIMIC),np.mean(failed_time_MIMIC)]\n",
    "time_list_error = [np.std(success_time_RHC),np.std(failed_time_RHC),np.std(success_time_SA),np.std(failed_time_SA),np.std(success_time_GA),np.std(failed_time_GA),np.std(success_time_MIMIC),np.std(failed_time_MIMIC)]\n",
    "time_label_list=['RHC_S','RHC_F','SA_S','SA_F','GA_S','GA_F','MIMIC_S','MIMIC_F']\n",
    "plt.scatter([0,1,2,3,4,5,6,7],time_list)\n",
    "plt.errorbar([0,1,2,3,4,5,6,7],time_list,yerr=time_list_error,fmt=\"o\")\n",
    "#print(time_list)\n",
    "plt.xticks([0,1,2,3,4,5,6,7],time_label_list)\n",
    "plt.yscale('log')\n",
    "plt.ylabel('Average Run Time')\n",
    "plt.xlabel('Random Optimization Algo')\n",
    "plt.title('Average Run Time of Each Method(16 Queens)')\n",
    "plt.savefig('Figure_6.png')"
   ]
  },
  {
   "cell_type": "code",
   "execution_count": 134,
   "metadata": {},
   "outputs": [],
   "source": [
    "# Create list of city coordinates\n",
    "coords_list = [(1, 1), (4, 2), (5, 2), (6, 4), (4, 4), (3, 6), (1, 5), (2, 3)]\n",
    "\n",
    "# Initialize fitness function object using coords_list\n",
    "fitness_coords = mlrose_hiive.TravellingSales(coords = coords_list)\n",
    "# Create list of distances between pairs of cities\n",
    "dist_list = [(0, 1, 3.1623), (0, 2, 4.1231), (0, 3, 5.8310), (0, 4, 4.2426), \\\n",
    "             (0, 5, 5.3852), (0, 6, 4.0000), (0, 7, 2.2361), (1, 2, 1.0000), \\\n",
    "             (1, 3, 2.8284), (1, 4, 2.0000), (1, 5, 4.1231), (1, 6, 4.2426), \\\n",
    "             (1, 7, 2.2361), (2, 3, 2.2361), (2, 4, 2.2361), (2, 5, 4.4721), \\\n",
    "             (2, 6, 5.0000), (2, 7, 3.1623), (3, 4, 2.0000), (3, 5, 3.6056), \\\n",
    "             (3, 6, 5.0990), (3, 7, 4.1231), (4, 5, 2.2361), (4, 6, 3.1623), \\\n",
    "             (4, 7, 2.2361), (5, 6, 2.2361), (5, 7, 3.1623), (6, 7, 2.2361)]\n",
    "\n",
    "# Initialize fitness function object using dist_list\n",
    "fitness_dists = mlrose_hiive.TravellingSales(distances = dist_list)\n",
    "# Define optimization problem object\n",
    "problem_fit = mlrose_hiive.TSPOpt(length = 8, fitness_fn = fitness_coords, maximize=False)"
   ]
  },
  {
   "cell_type": "code",
   "execution_count": 135,
   "metadata": {},
   "outputs": [],
   "source": [
    "###SA\n",
    "\n",
    "fit_curve_arr_SA = np.zeros((100,100))\n",
    "fittness_list_SA = []\n",
    "time_list_SA = []\n",
    "win_SA = 0\n",
    "\n",
    "for seed in rs_list:\n",
    "\n",
    "    start_time = time.time()\n",
    "    best = mlrose_hiive.simulated_annealing(problem_fit, schedule = schedule, max_attempts = 10, \n",
    "                                                      max_iters = 100,\n",
    "                                                      random_state = seed,curve=True,)\n",
    "    time_buff =time.time() - start_time\n",
    "    \n",
    "    best_state, best_fitness = best[0],best[1]\n",
    "    time_list_SA.append(time_buff)\n",
    "    fittness_list_SA.append(best_fitness)\n",
    "    fit_curve = np.asarray(best[2][:,0]).flatten()\n",
    "    if np.shape(fit_curve)[0]< 100:\n",
    "        #print(np.shape(fit_curve)[0])\n",
    "        ###add some element to the array to make it size 4000\n",
    "        dummy= np.asarray([best[2][:,0][-1]]*(100-len(best[2][:,0])))\n",
    "        #print(np.shape(dummy))\n",
    "        #print(np.shape(fit_curve))\n",
    "        fit_curve = np.concatenate((fit_curve,dummy),axis=0)\n",
    "\n",
    "    fit_curve_arr_SA[seed,:] = fit_curve\n"
   ]
  },
  {
   "cell_type": "code",
   "execution_count": 136,
   "metadata": {},
   "outputs": [
    {
     "name": "stdout",
     "output_type": "stream",
     "text": [
      "19.541042276393394\n"
     ]
    }
   ],
   "source": [
    "print(np.mean(fittness_list_SA))"
   ]
  },
  {
   "cell_type": "code",
   "execution_count": 137,
   "metadata": {},
   "outputs": [],
   "source": [
    "###RHC \n",
    "success_time_RHC = []\n",
    "failed_time_RHC =[]\n",
    "fit_curve_arr_RHC = np.zeros((100,100))\n",
    "fittness_list_RHC = []\n",
    "time_list_RHC = []\n",
    "\n",
    "for seed in rs_list:\n",
    "\n",
    "    start_time = time.time()\n",
    "    best = mlrose_hiive.random_hill_climb(problem_fit,max_attempts = 10, \n",
    "                                                      max_iters = 100,\n",
    "                                                      random_state = seed,curve=True)\n",
    "    time_buff =time.time() - start_time\n",
    "    \n",
    "    best_state, best_fitness = best[0],best[1]\n",
    "    time_list_RHC.append(time_buff)\n",
    "    fittness_list_RHC.append(best_fitness)\n",
    "    fit_curve = np.asarray(best[2][:,0]).flatten()\n",
    "    #print(np.shape(fit_curve)[0])\n",
    "    if np.shape(fit_curve)[0]< 100:\n",
    "        #print(np.shape(fit_curve)[0])\n",
    "        ###add some element to the array to make it size 4000\n",
    "        dummy= np.asarray([best[2][:,0][-1]]*(100-len(best[2][:,0])))\n",
    "        #print(np.shape(dummy))\n",
    "        #print(np.shape(fit_curve))\n",
    "        fit_curve = np.concatenate((fit_curve,dummy),axis=0)\n",
    "\n",
    "    fit_curve_arr_RHC[seed,:] = fit_curve"
   ]
  },
  {
   "cell_type": "code",
   "execution_count": 138,
   "metadata": {},
   "outputs": [
    {
     "name": "stdout",
     "output_type": "stream",
     "text": [
      "20.508754978968273\n"
     ]
    }
   ],
   "source": [
    "print(np.mean(fittness_list_RHC))"
   ]
  },
  {
   "cell_type": "code",
   "execution_count": 141,
   "metadata": {},
   "outputs": [],
   "source": [
    "###GA\n",
    "fit_curve_arr_GA = np.zeros((100,100))\n",
    "fittness_list_GA = []\n",
    "time_list_GA = []\n",
    "\n",
    "for seed in rs_list:\n",
    "\n",
    "    start_time = time.time()\n",
    "    best = mlrose_hiive.genetic_alg(problem_fit,pop_size=200, max_attempts = 10,max_iters=100,random_state = seed,curve=True,)\n",
    "    time_buff =time.time() - start_time\n",
    "    \n",
    "    best_state, best_fitness = best[0],best[1]\n",
    "\n",
    "    time_list_GA.append(time_buff)\n",
    "    #print(best_fitness)\n",
    "    fittness_list_GA.append(best_fitness)\n",
    "    fit_curve = np.asarray(best[2][:,0]).flatten()\n",
    "    #print(np.shape(fit_curve)[0])\n",
    "    if np.shape(fit_curve)[0]< 1000:\n",
    "        #print(np.shape(fit_curve)[0])\n",
    "        ###add some element to the array to make it size 4000\n",
    "        dummy= np.asarray([best[2][:,0][-1]]*(100-len(best[2][:,0])))\n",
    "        #print(np.shape(dummy))\n",
    "        #print(np.shape(fit_curve))\n",
    "        fit_curve = np.concatenate((fit_curve,dummy),axis=0)\n",
    "\n",
    "    fit_curve_arr_GA[seed,:] = fit_curve\n"
   ]
  },
  {
   "cell_type": "code",
   "execution_count": null,
   "metadata": {},
   "outputs": [
    {
     "name": "stdout",
     "output_type": "stream",
     "text": [
      "17.342617547667324\n"
     ]
    }
   ],
   "source": [
    "print(np.mean(fittness_list_GA))"
   ]
  },
  {
   "cell_type": "code",
   "execution_count": 143,
   "metadata": {},
   "outputs": [],
   "source": [
    "###MIMIC\n",
    "fit_curve_arr_MIMIC = np.zeros((100,100))\n",
    "fittness_list_MIMIC = []\n",
    "time_list_MIMIC = []\n",
    "\n",
    "for seed in rs_list:\n",
    "\n",
    "    start_time = time.time()\n",
    "    best = mlrose_hiive.mimic(problem_fit,pop_size=300, max_attempts = 10, \n",
    "                                                      max_iters = 100,\n",
    "                                                      random_state = seed,curve=True)\n",
    "    time_buff =time.time() - start_time\n",
    "    \n",
    "    best_state, best_fitness = best[0],best[1]\n",
    "    time_list_MIMIC.append(time_buff)\n",
    "    fittness_list_MIMIC.append(best_fitness)\n",
    "    fit_curve = np.asarray(best[2][:,0]).flatten()\n",
    "    #print(np.shape(fit_curve)[0])\n",
    "    if np.shape(fit_curve)[0]< 100:\n",
    "        #print(np.shape(fit_curve)[0])\n",
    "        ###add some element to the array to make it size 4000\n",
    "        dummy= np.asarray([best[2][:,0][-1]]*(100-len(best[2][:,0])))\n",
    "        #print(np.shape(dummy))\n",
    "        #print(np.shape(fit_curve))\n",
    "        fit_curve = np.concatenate((fit_curve,dummy),axis=0)\n",
    "\n",
    "    fit_curve_arr_MIMIC[seed,:] = fit_curve\n"
   ]
  },
  {
   "cell_type": "code",
   "execution_count": 157,
   "metadata": {},
   "outputs": [
    {
     "name": "stdout",
     "output_type": "stream",
     "text": [
      "0.2818384071715449\n",
      "1.7763568394002505e-14\n"
     ]
    }
   ],
   "source": [
    "print( np.std(fit_curve_arr_MIMIC,axis=0)[99])\n",
    "print( np.std(fit_curve_arr_GA,axis=0)[99])"
   ]
  },
  {
   "cell_type": "code",
   "execution_count": 160,
   "metadata": {},
   "outputs": [
    {
     "data": {
      "image/png": "[encoded data removed]",
      "text/plain": [
       "<Figure size 432x288 with 1 Axes>"
      ]
     },
     "metadata": {
      "needs_background": "light"
     },
     "output_type": "display_data"
    }
   ],
   "source": [
    "fit_curve_mean_MIMIC = np.mean(fit_curve_arr_MIMIC,axis=0)\n",
    "fit_curve_std_MIMIC = np.std(fit_curve_arr_MIMIC,axis=0)\n",
    "fit_curve_mean_GA = np.mean(fit_curve_arr_GA,axis=0)\n",
    "fit_curve_std_GA = np.std(fit_curve_arr_GA,axis=0)\n",
    "fit_curve_mean_SA = np.mean(fit_curve_arr_SA,axis=0)\n",
    "fit_curve_std_SA = np.std(fit_curve_arr_SA,axis=0)\n",
    "fit_curve_mean_RHC = np.mean(fit_curve_arr_RHC,axis=0)\n",
    "fit_curve_std_RHC = np.std(fit_curve_arr_RHC,axis=0)\n",
    "plt.plot(-1*fit_curve_mean_RHC,label='RHC')\n",
    "plt.plot(-1*fit_curve_mean_MIMIC,label='MIMIC')\n",
    "\n",
    "plt.fill_between(\n",
    "    range(100),\n",
    "    -1*(fit_curve_mean_RHC - fit_curve_std_RHC),\n",
    "    -1*(fit_curve_mean_RHC+ fit_curve_std_RHC),\n",
    "    alpha=0.3,\n",
    "    color=\"b\",\n",
    "    lw=2,\n",
    ")\n",
    "\n",
    "plt.fill_between(\n",
    "    range(100),\n",
    "    -1*(fit_curve_mean_MIMIC - fit_curve_std_MIMIC),\n",
    "    -1*(fit_curve_mean_MIMIC+ fit_curve_std_MIMIC),\n",
    "    alpha=0.2,\n",
    "    color=\"darkorange\",\n",
    "    lw=2,\n",
    ")\n",
    "\n",
    "plt.plot(-1*fit_curve_mean_SA,label='SA')\n",
    "\n",
    "plt.fill_between(\n",
    "    range(100),\n",
    "    -1*(fit_curve_mean_SA - fit_curve_std_SA),\n",
    "    -1*(fit_curve_mean_SA+ fit_curve_std_SA),\n",
    "    alpha=0.2,\n",
    "    color=\"green\",\n",
    "    lw=2,\n",
    ")\n",
    "\n",
    "plt.plot(-1*fit_curve_mean_GA,label='GA')\n",
    "\n",
    "plt.fill_between(\n",
    "    range(100),\n",
    "    -1*(fit_curve_mean_GA - fit_curve_std_GA),\n",
    "    -1*(fit_curve_mean_GA+ fit_curve_std_GA),\n",
    "    alpha=0.2,\n",
    "    color=\"red\",\n",
    "    lw=2,\n",
    ")\n",
    "\n",
    "plt.legend()\n",
    "plt.title('Mean Fittness vs Optimization Iteration of Different Algo(TSP 8 Cities)')\n",
    "plt.xlabel('Iteration')\n",
    "plt.xlim(0,25)\n",
    "plt.ylabel('Fittness')\n",
    "plt.savefig('Figure_6.png')"
   ]
  },
  {
   "cell_type": "code",
   "execution_count": 161,
   "metadata": {},
   "outputs": [
    {
     "data": {
      "image/png": "[encoded data removed]",
      "text/plain": [
       "<Figure size 432x288 with 1 Axes>"
      ]
     },
     "metadata": {
      "needs_background": "light"
     },
     "output_type": "display_data"
    }
   ],
   "source": [
    "#plt.scatter([0,1,2,3,4,5,6,7],[success_time_RHC,failed_time_RHC,success_time_SA,failed_time_SA,success_time_GA,failed_time_GA,success_time_MIMIC,failed_time_MIMIC])\n",
    "time_list = [np.mean(time_list_RHC),np.mean(time_list_SA),np.mean(time_list_GA),np.mean(time_list_MIMIC)]\n",
    "time_list_error = [np.std(time_list_RHC),np.std(time_list_SA),np.std(time_list_GA),np.std(time_list_MIMIC)]\n",
    "\n",
    "time_label_list=['RHC','SA','GA','MIMIC']\n",
    "plt.scatter([0,1,2,3],time_list)\n",
    "plt.errorbar([0,1,2,3],time_list,yerr=time_list_error,fmt=\"o\")\n",
    "#print(time_list)\n",
    "plt.xticks([0,1,2,3],time_label_list)\n",
    "plt.yscale('log')\n",
    "plt.ylabel('Average Run Time')\n",
    "plt.xlabel('Random Optimization Algo')\n",
    "plt.title('Average Run Time of Each Method(TSP 8 Cities)')\n",
    "plt.savefig('Figure_7.png')"
   ]
  },
  {
   "cell_type": "code",
   "execution_count": 170,
   "metadata": {},
   "outputs": [],
   "source": [
    "###GA\n",
    "fit_curve_arr_GA = np.zeros((100,100))\n",
    "fittness_list_GA = []\n",
    "time_list_GA = []\n",
    "\n",
    "for seed in rs_list:\n",
    "\n",
    "    start_time = time.time()\n",
    "    best = mlrose_hiive.genetic_alg(problem_fit,pop_size=100, max_attempts = 10,max_iters=100,random_state = seed,curve=True,)\n",
    "    time_buff =time.time() - start_time\n",
    "    \n",
    "    best_state, best_fitness = best[0],best[1]\n",
    "\n",
    "    time_list_GA.append(time_buff)\n",
    "    #print(best_fitness)\n",
    "    fittness_list_GA.append(best_fitness)\n",
    "    fit_curve = np.asarray(best[2][:,0]).flatten()\n",
    "    #print(np.shape(fit_curve)[0])\n",
    "    if np.shape(fit_curve)[0]< 100:\n",
    "        #print(np.shape(fit_curve)[0])\n",
    "        ###add some element to the array to make it size 4000\n",
    "        dummy= np.asarray([best[2][:,0][-1]]*(100-len(best[2][:,0])))\n",
    "        #print(np.shape(dummy))\n",
    "        #print(np.shape(fit_curve))\n",
    "        fit_curve = np.concatenate((fit_curve,dummy),axis=0)\n",
    "\n",
    "    fit_curve_arr_GA[seed,:] = fit_curve\n",
    "\n",
    "fittness_list_GA_100 = fit_curve_arr_GA\n",
    "time_list_GA_100 = time_list_GA\n"
   ]
  },
  {
   "cell_type": "code",
   "execution_count": 171,
   "metadata": {},
   "outputs": [],
   "source": [
    "###GA\n",
    "fit_curve_arr_GA = np.zeros((100,100))\n",
    "fittness_list_GA = []\n",
    "time_list_GA = []\n",
    "\n",
    "for seed in rs_list:\n",
    "\n",
    "    start_time = time.time()\n",
    "    best = mlrose_hiive.genetic_alg(problem_fit,pop_size=200, max_attempts = 10,max_iters=100,random_state = seed,curve=True,)\n",
    "    time_buff =time.time() - start_time\n",
    "    \n",
    "    best_state, best_fitness = best[0],best[1]\n",
    "\n",
    "    time_list_GA.append(time_buff)\n",
    "    #print(best_fitness)\n",
    "    fittness_list_GA.append(best_fitness)\n",
    "    fit_curve = np.asarray(best[2][:,0]).flatten()\n",
    "    #print(np.shape(fit_curve)[0])\n",
    "    if np.shape(fit_curve)[0]< 100:\n",
    "        #print(np.shape(fit_curve)[0])\n",
    "        ###add some element to the array to make it size 4000\n",
    "        dummy= np.asarray([best[2][:,0][-1]]*(100-len(best[2][:,0])))\n",
    "        #print(np.shape(dummy))\n",
    "        #print(np.shape(fit_curve))\n",
    "        fit_curve = np.concatenate((fit_curve,dummy),axis=0)\n",
    "\n",
    "    fit_curve_arr_GA[seed,:] = fit_curve\n",
    "\n",
    "\n",
    "fittness_list_GA_200 = fit_curve_arr_GA\n",
    "time_list_GA_200 = time_list_GA"
   ]
  },
  {
   "cell_type": "code",
   "execution_count": 172,
   "metadata": {},
   "outputs": [],
   "source": [
    "###GA\n",
    "fit_curve_arr_GA = np.zeros((100,100))\n",
    "fittness_list_GA = []\n",
    "time_list_GA = []\n",
    "\n",
    "for seed in rs_list:\n",
    "\n",
    "    start_time = time.time()\n",
    "    best = mlrose_hiive.genetic_alg(problem_fit,pop_size=300, max_attempts = 10,max_iters=100,random_state = seed,curve=True,)\n",
    "    time_buff =time.time() - start_time\n",
    "    \n",
    "    best_state, best_fitness = best[0],best[1]\n",
    "\n",
    "    time_list_GA.append(time_buff)\n",
    "    #print(best_fitness)\n",
    "    fittness_list_GA.append(best_fitness)\n",
    "    fit_curve = np.asarray(best[2][:,0]).flatten()\n",
    "    #print(np.shape(fit_curve)[0])\n",
    "    if np.shape(fit_curve)[0]< 100:\n",
    "        #print(np.shape(fit_curve)[0])\n",
    "        ###add some element to the array to make it size 4000\n",
    "        dummy= np.asarray([best[2][:,0][-1]]*(100-len(best[2][:,0])))\n",
    "        #print(np.shape(dummy))\n",
    "        #print(np.shape(fit_curve))\n",
    "        fit_curve = np.concatenate((fit_curve,dummy),axis=0)\n",
    "\n",
    "    fit_curve_arr_GA[seed,:] = fit_curve\n",
    "\n",
    "\n",
    "fittness_list_GA_300 = fit_curve_arr_GA\n",
    "time_list_GA_300 = time_list_GA"
   ]
  },
  {
   "cell_type": "code",
   "execution_count": 177,
   "metadata": {},
   "outputs": [
    {
     "data": {
      "image/png": "[encoded data removed]",
      "text/plain": [
       "<Figure size 432x288 with 1 Axes>"
      ]
     },
     "metadata": {
      "needs_background": "light"
     },
     "output_type": "display_data"
    }
   ],
   "source": [
    "fittness_mean_100 = np.mean(fittness_list_GA_100,axis=0)\n",
    "fittness_mean_200 = np.mean(fittness_list_GA_200,axis=0)\n",
    "fittness_mean_300 = np.mean(fittness_list_GA_300,axis=0)\n",
    "fittness_std_100 = np.std(fittness_list_GA_100,axis=0)\n",
    "fittness_std_200 = np.std(fittness_list_GA_200,axis=0)\n",
    "fittness_std_300 = np.std(fittness_list_GA_300,axis=0)\n",
    "\n",
    "\n",
    "plt.plot(-1*fittness_mean_100,label='Population=100')\n",
    "plt.plot(-1*fittness_mean_200,label='Population=200')\n",
    "plt.plot(-1*fittness_mean_300,label='Population=300')\n",
    "\n",
    "\n",
    "plt.fill_between(\n",
    "    range(100),\n",
    "    -1*(fittness_mean_100 - fittness_std_100),\n",
    "    -1*(fittness_mean_100+ fittness_std_100),\n",
    "    alpha=0.2,\n",
    "    color=\"blue\",\n",
    "    lw=2,\n",
    ")\n",
    "plt.fill_between(\n",
    "    range(100),\n",
    "    -1*(fittness_mean_200 - fittness_std_200),\n",
    "    -1*(fittness_mean_200+ fittness_std_200),\n",
    "    alpha=0.2,\n",
    "    color=\"yellow\",\n",
    "    lw=2,\n",
    ")\n",
    "plt.fill_between(\n",
    "    range(100),\n",
    "    -1*(fittness_mean_300 - fittness_std_300),\n",
    "    -1*(fittness_mean_300+ fittness_std_300),\n",
    "    alpha=0.2,\n",
    "    color=\"green\",\n",
    "    lw=2,\n",
    ")\n",
    "\n",
    "plt.legend()\n",
    "plt.title('Population Number Impact on GA(TSP 8 Cities)')\n",
    "plt.xlabel('Iteration')\n",
    "#plt.xlim(0,25)\n",
    "plt.ylabel('Fittness')\n",
    "plt.savefig('Figure_8.png')"
   ]
  },
  {
   "cell_type": "code",
   "execution_count": 180,
   "metadata": {},
   "outputs": [
    {
     "data": {
      "image/png": "[encoded data removed]",
      "text/plain": [
       "<Figure size 432x288 with 1 Axes>"
      ]
     },
     "metadata": {
      "needs_background": "light"
     },
     "output_type": "display_data"
    }
   ],
   "source": [
    "#plt.scatter([0,1,2,3,4,5,6,7],[success_time_RHC,failed_time_RHC,success_time_SA,failed_time_SA,success_time_GA,failed_time_GA,success_time_MIMIC,failed_time_MIMIC])\n",
    "time_list = [np.mean(time_list_GA_100),np.mean(time_list_GA_200),np.mean(time_list_GA_300)]\n",
    "time_list_error = [np.std(time_list_GA_100),np.std(time_list_GA_200),np.std(time_list_GA_300)]\n",
    "\n",
    "\n",
    "time_label_list=['100','200','300']\n",
    "plt.scatter([0,1,2],time_list)\n",
    "plt.errorbar([0,1,2],time_list,yerr=time_list_error,fmt=\"o\")\n",
    "#print(time_list)\n",
    "plt.xticks([0,1,2],time_label_list)\n",
    "#plt.yscale('log')\n",
    "plt.ylabel('Average Run Time')\n",
    "plt.xlabel('Population Size')\n",
    "plt.title('GA Population Size Impace on Run Time(TSP 8 Cities)')\n",
    "plt.savefig('Figure_9.png')"
   ]
  },
  {
   "cell_type": "code",
   "execution_count": 189,
   "metadata": {},
   "outputs": [],
   "source": [
    "###GA\n",
    "fit_curve_arr_GA = np.zeros((100,100))\n",
    "fittness_list_GA = []\n",
    "time_list_GA = []\n",
    "\n",
    "for seed in rs_list:\n",
    "\n",
    "    start_time = time.time()\n",
    "    best = mlrose_hiive.genetic_alg(problem_fit,pop_size=200, max_attempts = 10,max_iters=100,random_state = seed,curve=True,mutation_prob=0.1)\n",
    "    time_buff =time.time() - start_time\n",
    "    \n",
    "    best_state, best_fitness = best[0],best[1]\n",
    "\n",
    "    time_list_GA.append(time_buff)\n",
    "    #print(best_fitness)\n",
    "    fittness_list_GA.append(best_fitness)\n",
    "    fit_curve = np.asarray(best[2][:,0]).flatten()\n",
    "    #print(np.shape(fit_curve)[0])\n",
    "    if np.shape(fit_curve)[0]< 100:\n",
    "        #print(np.shape(fit_curve)[0])\n",
    "        ###add some element to the array to make it size 4000\n",
    "        dummy= np.asarray([best[2][:,0][-1]]*(100-len(best[2][:,0])))\n",
    "        #print(np.shape(dummy))\n",
    "        #print(np.shape(fit_curve))\n",
    "        fit_curve = np.concatenate((fit_curve,dummy),axis=0)\n",
    "\n",
    "    fit_curve_arr_GA[seed,:] = fit_curve\n",
    "\n",
    "fittness_list_GA_001 = fit_curve_arr_GA\n",
    "time_list_GA_001 = time_list_GA"
   ]
  },
  {
   "cell_type": "code",
   "execution_count": 181,
   "metadata": {},
   "outputs": [],
   "source": [
    "###GA\n",
    "fit_curve_arr_GA = np.zeros((100,100))\n",
    "fittness_list_GA = []\n",
    "time_list_GA = []\n",
    "\n",
    "for seed in rs_list:\n",
    "\n",
    "    start_time = time.time()\n",
    "    best = mlrose_hiive.genetic_alg(problem_fit,pop_size=200, max_attempts = 10,max_iters=100,random_state = seed,curve=True,mutation_prob=0.1)\n",
    "    time_buff =time.time() - start_time\n",
    "    \n",
    "    best_state, best_fitness = best[0],best[1]\n",
    "\n",
    "    time_list_GA.append(time_buff)\n",
    "    #print(best_fitness)\n",
    "    fittness_list_GA.append(best_fitness)\n",
    "    fit_curve = np.asarray(best[2][:,0]).flatten()\n",
    "    #print(np.shape(fit_curve)[0])\n",
    "    if np.shape(fit_curve)[0]< 100:\n",
    "        #print(np.shape(fit_curve)[0])\n",
    "        ###add some element to the array to make it size 4000\n",
    "        dummy= np.asarray([best[2][:,0][-1]]*(100-len(best[2][:,0])))\n",
    "        #print(np.shape(dummy))\n",
    "        #print(np.shape(fit_curve))\n",
    "        fit_curve = np.concatenate((fit_curve,dummy),axis=0)\n",
    "\n",
    "    fit_curve_arr_GA[seed,:] = fit_curve\n",
    "\n",
    "fittness_list_GA_01 = fit_curve_arr_GA\n",
    "time_list_GA_01 = time_list_GA"
   ]
  },
  {
   "cell_type": "code",
   "execution_count": 182,
   "metadata": {},
   "outputs": [],
   "source": [
    "###GA\n",
    "fit_curve_arr_GA = np.zeros((100,100))\n",
    "fittness_list_GA = []\n",
    "time_list_GA = []\n",
    "\n",
    "for seed in rs_list:\n",
    "\n",
    "    start_time = time.time()\n",
    "    best = mlrose_hiive.genetic_alg(problem_fit,pop_size=200, max_attempts = 10,max_iters=100,random_state = seed,curve=True,mutation_prob=0.2)\n",
    "    time_buff =time.time() - start_time\n",
    "    \n",
    "    best_state, best_fitness = best[0],best[1]\n",
    "\n",
    "    time_list_GA.append(time_buff)\n",
    "    #print(best_fitness)\n",
    "    fittness_list_GA.append(best_fitness)\n",
    "    fit_curve = np.asarray(best[2][:,0]).flatten()\n",
    "    #print(np.shape(fit_curve)[0])\n",
    "    if np.shape(fit_curve)[0]< 100:\n",
    "        #print(np.shape(fit_curve)[0])\n",
    "        ###add some element to the array to make it size 4000\n",
    "        dummy= np.asarray([best[2][:,0][-1]]*(100-len(best[2][:,0])))\n",
    "        #print(np.shape(dummy))\n",
    "        #print(np.shape(fit_curve))\n",
    "        fit_curve = np.concatenate((fit_curve,dummy),axis=0)\n",
    "\n",
    "    fit_curve_arr_GA[seed,:] = fit_curve\n",
    "\n",
    "fittness_list_GA_02 = fit_curve_arr_GA\n",
    "time_list_GA_02 = time_list_GA"
   ]
  },
  {
   "cell_type": "code",
   "execution_count": 183,
   "metadata": {},
   "outputs": [],
   "source": [
    "###GA\n",
    "fit_curve_arr_GA = np.zeros((100,100))\n",
    "fittness_list_GA = []\n",
    "time_list_GA = []\n",
    "\n",
    "for seed in rs_list:\n",
    "\n",
    "    start_time = time.time()\n",
    "    best = mlrose_hiive.genetic_alg(problem_fit,pop_size=200, max_attempts = 10,max_iters=100,random_state = seed,curve=True,mutation_prob=0.3)\n",
    "    time_buff =time.time() - start_time\n",
    "    \n",
    "    best_state, best_fitness = best[0],best[1]\n",
    "\n",
    "    time_list_GA.append(time_buff)\n",
    "    #print(best_fitness)\n",
    "    fittness_list_GA.append(best_fitness)\n",
    "    fit_curve = np.asarray(best[2][:,0]).flatten()\n",
    "    #print(np.shape(fit_curve)[0])\n",
    "    if np.shape(fit_curve)[0]< 100:\n",
    "        #print(np.shape(fit_curve)[0])\n",
    "        ###add some element to the array to make it size 4000\n",
    "        dummy= np.asarray([best[2][:,0][-1]]*(100-len(best[2][:,0])))\n",
    "        #print(np.shape(dummy))\n",
    "        #print(np.shape(fit_curve))\n",
    "        fit_curve = np.concatenate((fit_curve,dummy),axis=0)\n",
    "\n",
    "    fit_curve_arr_GA[seed,:] = fit_curve\n",
    "\n",
    "fittness_list_GA_03 = fit_curve_arr_GA\n",
    "time_list_GA_03 = time_list_GA"
   ]
  },
  {
   "cell_type": "code",
   "execution_count": 184,
   "metadata": {},
   "outputs": [],
   "source": [
    "###GA\n",
    "fit_curve_arr_GA = np.zeros((100,100))\n",
    "fittness_list_GA = []\n",
    "time_list_GA = []\n",
    "\n",
    "for seed in rs_list:\n",
    "\n",
    "    start_time = time.time()\n",
    "    best = mlrose_hiive.genetic_alg(problem_fit,pop_size=200, max_attempts = 10,max_iters=100,random_state = seed,curve=True,mutation_prob=0.4)\n",
    "    time_buff =time.time() - start_time\n",
    "    \n",
    "    best_state, best_fitness = best[0],best[1]\n",
    "\n",
    "    time_list_GA.append(time_buff)\n",
    "    #print(best_fitness)\n",
    "    fittness_list_GA.append(best_fitness)\n",
    "    fit_curve = np.asarray(best[2][:,0]).flatten()\n",
    "    #print(np.shape(fit_curve)[0])\n",
    "    if np.shape(fit_curve)[0]< 100:\n",
    "        #print(np.shape(fit_curve)[0])\n",
    "        ###add some element to the array to make it size 4000\n",
    "        dummy= np.asarray([best[2][:,0][-1]]*(100-len(best[2][:,0])))\n",
    "        #print(np.shape(dummy))\n",
    "        #print(np.shape(fit_curve))\n",
    "        fit_curve = np.concatenate((fit_curve,dummy),axis=0)\n",
    "\n",
    "    fit_curve_arr_GA[seed,:] = fit_curve\n",
    "\n",
    "fittness_list_GA_04 = fit_curve_arr_GA\n",
    "time_list_GA_04 = time_list_GA"
   ]
  },
  {
   "cell_type": "code",
   "execution_count": 185,
   "metadata": {},
   "outputs": [],
   "source": [
    "###GA\n",
    "fit_curve_arr_GA = np.zeros((100,100))\n",
    "fittness_list_GA = []\n",
    "time_list_GA = []\n",
    "\n",
    "for seed in rs_list:\n",
    "\n",
    "    start_time = time.time()\n",
    "    best = mlrose_hiive.genetic_alg(problem_fit,pop_size=200, max_attempts = 10,max_iters=100,random_state = seed,curve=True,mutation_prob=0.5)\n",
    "    time_buff =time.time() - start_time\n",
    "    \n",
    "    best_state, best_fitness = best[0],best[1]\n",
    "\n",
    "    time_list_GA.append(time_buff)\n",
    "    #print(best_fitness)\n",
    "    fittness_list_GA.append(best_fitness)\n",
    "    fit_curve = np.asarray(best[2][:,0]).flatten()\n",
    "    #print(np.shape(fit_curve)[0])\n",
    "    if np.shape(fit_curve)[0]< 100:\n",
    "        #print(np.shape(fit_curve)[0])\n",
    "        ###add some element to the array to make it size 4000\n",
    "        dummy= np.asarray([best[2][:,0][-1]]*(100-len(best[2][:,0])))\n",
    "        #print(np.shape(dummy))\n",
    "        #print(np.shape(fit_curve))\n",
    "        fit_curve = np.concatenate((fit_curve,dummy),axis=0)\n",
    "\n",
    "    fit_curve_arr_GA[seed,:] = fit_curve\n",
    "\n",
    "fittness_list_GA_05 = fit_curve_arr_GA\n",
    "time_list_GA_05 = time_list_GA"
   ]
  },
  {
   "cell_type": "code",
   "execution_count": 202,
   "metadata": {},
   "outputs": [
    {
     "data": {
      "image/png": "[encoded data removed]",
      "text/plain": [
       "<Figure size 432x288 with 1 Axes>"
      ]
     },
     "metadata": {
      "needs_background": "light"
     },
     "output_type": "display_data"
    }
   ],
   "source": [
    "fittness_mean_1 = np.mean(fittness_list_GA_01,axis=0)\n",
    "fittness_mean_2 = np.mean(fittness_list_GA_02,axis=0)\n",
    "fittness_mean_3 = np.mean(fittness_list_GA_03,axis=0)\n",
    "fittness_mean_4 = np.mean(fittness_list_GA_04,axis=0)\n",
    "fittness_mean_5 = np.mean(fittness_list_GA_05,axis=0)\n",
    "#fittness_mean_01 = np.mean(fittness_list_GA_001,axis=0)\n",
    "#fittness_std_01 = np.std(fittness_list_GA_001,axis=0)\n",
    "\n",
    "fittness_std_1 = np.std(fittness_list_GA_01,axis=0)\n",
    "fittness_std_2 = np.std(fittness_list_GA_02,axis=0)\n",
    "fittness_std_3 = np.std(fittness_list_GA_03,axis=0)\n",
    "fittness_std_4 = np.std(fittness_list_GA_04,axis=0)\n",
    "fittness_std_5 = np.std(fittness_list_GA_05,axis=0)\n",
    "\n",
    "\n",
    "plt.plot(-1*fittness_mean_1-10,label='0.1')\n",
    "plt.plot(-1*fittness_mean_2-20,label='0.2')\n",
    "plt.plot(-1*fittness_mean_3-30,label='0.3')\n",
    "plt.plot(-1*fittness_mean_4-40,label='0.4')\n",
    "plt.plot(-1*fittness_mean_5-50,label='0.5')\n",
    "plt.fill_between(\n",
    "    range(100),\n",
    "    -1*(fittness_mean_1 - fittness_std_1)-10,\n",
    "    -1*(fittness_mean_1+ fittness_std_1)-10,\n",
    "    alpha=0.5,\n",
    "    color=\"blue\",\n",
    "    lw=2,\n",
    ")\n",
    "plt.fill_between(\n",
    "    range(100),\n",
    "    -1*(fittness_mean_2 - fittness_std_2)-20,\n",
    "    -1*(fittness_mean_2+ fittness_std_2)-20,\n",
    "    alpha=0.5,\n",
    "    color=\"yellow\",\n",
    "    lw=2,\n",
    ")\n",
    "plt.fill_between(\n",
    "    range(100),\n",
    "    -1*(fittness_mean_3 - fittness_std_3)-30,\n",
    "    -1*(fittness_mean_3+ fittness_std_3)-30,\n",
    "    alpha=0.5,\n",
    "    color=\"green\",\n",
    "    lw=2,\n",
    ")\n",
    "\n",
    "plt.fill_between(\n",
    "    range(100),\n",
    "    -1*(fittness_mean_4 - fittness_std_4)-40,\n",
    "    -1*(fittness_mean_4+ fittness_std_4)-40,\n",
    "    alpha=0.5,\n",
    "    color=\"red\",\n",
    "    lw=2,\n",
    ")\n",
    "plt.fill_between(\n",
    "    range(100),\n",
    "    -1*(fittness_mean_5 - fittness_std_5)-50,\n",
    "    -1*(fittness_mean_5+ fittness_std_5)-50,\n",
    "    alpha=0.5,\n",
    "    color=\"purple\",\n",
    "    lw=2,\n",
    ")\n",
    "\n",
    "plt.legend()\n",
    "plt.title('Mutation Rate Impact on GA(TSP 8 Cities)')\n",
    "plt.xlabel('Iteration')\n",
    "plt.xlim(0,10)\n",
    "plt.ylabel('Fittness')\n",
    "plt.savefig('Figure_10.png')"
   ]
  },
  {
   "cell_type": "code",
   "execution_count": 205,
   "metadata": {},
   "outputs": [
    {
     "name": "stdout",
     "output_type": "stream",
     "text": [
      "1.7763568394002505e-14\n",
      "1.7763568394002505e-14\n",
      "1.7763568394002505e-14\n",
      "1.7763568394002505e-14\n",
      "1.7763568394002505e-14\n",
      "17.342617547667313\n",
      "17.342617547667313\n",
      "17.342617547667313\n",
      "17.342617547667313\n",
      "17.342617547667313\n"
     ]
    }
   ],
   "source": [
    "print(fittness_std_5[-1])\n",
    "print(fittness_std_4[-1])\n",
    "print(fittness_std_3[-1])\n",
    "print(fittness_std_2[-1])\n",
    "print(fittness_std_1[-1])\n",
    "\n",
    "print(fittness_mean_5[-1])\n",
    "print(fittness_mean_4[-1])\n",
    "print(fittness_mean_3[-1])\n",
    "print(fittness_mean_2[-1])\n",
    "print(fittness_mean_1[-1])\n"
   ]
  },
  {
   "cell_type": "code",
   "execution_count": 192,
   "metadata": {},
   "outputs": [
    {
     "data": {
      "text/plain": [
       "Text(0.5, 1.0, 'GA Population Size Impace on Run Time(TSP 8 Cities)')"
      ]
     },
     "execution_count": 192,
     "metadata": {},
     "output_type": "execute_result"
    },
    {
     "data": {
      "image/png": "[encoded data removed]",
      "text/plain": [
       "<Figure size 432x288 with 1 Axes>"
      ]
     },
     "metadata": {
      "needs_background": "light"
     },
     "output_type": "display_data"
    }
   ],
   "source": [
    "#plt.scatter([0,1,2,3,4,5,6,7],[success_time_RHC,failed_time_RHC,success_time_SA,failed_time_SA,success_time_GA,failed_time_GA,success_time_MIMIC,failed_time_MIMIC])\n",
    "time_list = [np.mean(time_list_GA_01),np.mean(time_list_GA_02),np.mean(time_list_GA_03),np.mean(time_list_GA_04),np.mean(time_list_GA_05)]\n",
    "time_list_error = [np.std(time_list_GA_01),np.std(time_list_GA_02),np.std(time_list_GA_03),np.std(time_list_GA_04),np.std(time_list_GA_05)]\n",
    "\n",
    "\n",
    "\n",
    "time_label_list=['0.1','0.2','0.3','0.4','0.5']\n",
    "plt.scatter([0,1,2,3,4],time_list)\n",
    "plt.errorbar([0,1,2,3,4],time_list,yerr=time_list_error,fmt=\"o\")\n",
    "#print(time_list)\n",
    "plt.xticks([0,1,2,3,4],time_label_list)\n",
    "#plt.yscale('log')\n",
    "plt.ylabel('Average Run Time')\n",
    "plt.xlabel('Population Size')\n",
    "plt.title('GA Population Size Impace on Run Time(TSP 8 Cities)')\n",
    "#plt.savefig('Figure_9.png')"
   ]
  },
  {
   "cell_type": "markdown",
   "metadata": {},
   "source": [
    "max k color MIMIC"
   ]
  },
  {
   "cell_type": "code",
   "execution_count": 212,
   "metadata": {},
   "outputs": [],
   "source": [
    "##\n",
    "\n",
    "import numpy as np\n",
    "edges = [(0, 1), (0, 2), (0, 4), (1, 3), (2, 0), (2, 3), (3, 4)]\n",
    "fitness = mlrose_hiive.MaxKColor(edges)\n",
    "state = np.array([0, 1, 0, 1, 1])\n",
    "fitness.evaluate(state)\n",
    "problem_k = mlrose_hiive.DiscreteOpt(length = 5, fitness_fn = fitness, maximize=True, max_val=5)\n",
    "schedule = mlrose_hiive.ExpDecay()"
   ]
  },
  {
   "cell_type": "code",
   "execution_count": 246,
   "metadata": {},
   "outputs": [],
   "source": [
    "fit_curve_arr_MIMIC = np.zeros((100,3))\n",
    "fittness_list_MIMIC = []\n",
    "time_list_MIMIC = []\n",
    "\n",
    "for seed in rs_list:\n",
    "\n",
    "    start_time = time.time()\n",
    "    best = mlrose_hiive.mimic(problem_k,pop_size=100, max_attempts = 5, \n",
    "                                                      max_iters = 3,\n",
    "                                                      random_state = seed,curve=True)\n",
    "    time_buff =time.time() - start_time\n",
    "    \n",
    "    best_state, best_fitness = best[0],best[1]\n",
    "    time_list_MIMIC.append(time_buff)\n",
    "    fittness_list_MIMIC.append(best_fitness)\n",
    "    fit_curve = np.asarray(best[2][:,0]).flatten()\n",
    "    #print(np.shape(fit_curve)[0])\n",
    "    if np.shape(fit_curve)[0]< 3:\n",
    "        #print(np.shape(fit_curve)[0])\n",
    "        ###add some element to the array to make it size 4000\n",
    "        dummy= np.asarray([best[2][:,0][-1]]*(3-len(best[2][:,0])))\n",
    "        #print(np.shape(dummy))\n",
    "        #print(np.shape(fit_curve))\n",
    "        fit_curve = np.concatenate((fit_curve,dummy),axis=0)\n",
    "\n",
    "    fit_curve_arr_MIMIC[seed,:] = fit_curve"
   ]
  },
  {
   "cell_type": "code",
   "execution_count": 258,
   "metadata": {},
   "outputs": [],
   "source": [
    "###GA\n",
    "fit_curve_arr_GA = np.zeros((100,3))\n",
    "fittness_list_GA = []\n",
    "time_list_GA = []\n",
    "\n",
    "for seed in rs_list:\n",
    "\n",
    "    start_time = time.time()\n",
    "    best = mlrose_hiive.genetic_alg(problem_k,pop_size=100, max_attempts = 5,max_iters=3,random_state = seed,curve=True)\n",
    "    time_buff =time.time() - start_time\n",
    "    \n",
    "    best_state, best_fitness = best[0],best[1]\n",
    "\n",
    "    time_list_GA.append(time_buff)\n",
    "    #print(best_fitness)\n",
    "    fittness_list_GA.append(best_fitness)\n",
    "    fit_curve = np.asarray(best[2][:,0]).flatten()\n",
    "    #print(np.shape(fit_curve)[0])\n",
    "    if np.shape(fit_curve)[0]< 3:\n",
    "        #print(np.shape(fit_curve)[0])\n",
    "        ###add some element to the array to make it size 4000\n",
    "        dummy= np.asarray([best[2][:,0][-1]]*(3-len(best[2][:,0])))\n",
    "        #print(np.shape(dummy))\n",
    "        #print(np.shape(fit_curve))\n",
    "        fit_curve = np.concatenate((fit_curve,dummy),axis=0)\n",
    "\n",
    "    fit_curve_arr_GA[seed,:] = fit_curve\n"
   ]
  },
  {
   "cell_type": "code",
   "execution_count": 253,
   "metadata": {},
   "outputs": [
    {
     "name": "stdout",
     "output_type": "stream",
     "text": [
      "6.0\n"
     ]
    }
   ],
   "source": [
    "print(np.max(fittness_list_GA))"
   ]
  },
  {
   "cell_type": "code",
   "execution_count": 248,
   "metadata": {},
   "outputs": [],
   "source": [
    "###SA\n",
    "\n",
    "fit_curve_arr_SA = np.zeros((100,3))\n",
    "fittness_list_SA = []\n",
    "time_list_SA = []\n",
    "win_SA = 0\n",
    "\n",
    "for seed in rs_list:\n",
    "\n",
    "    start_time = time.time()\n",
    "    best = mlrose_hiive.simulated_annealing(problem_k, schedule = schedule, max_attempts = 5, \n",
    "                                                      max_iters = 3,\n",
    "                                                      random_state = seed,curve=True,)\n",
    "    time_buff =time.time() - start_time\n",
    "    \n",
    "    best_state, best_fitness = best[0],best[1]\n",
    "    time_list_SA.append(time_buff)\n",
    "    fittness_list_SA.append(best_fitness)\n",
    "    fit_curve = np.asarray(best[2][:,0]).flatten()\n",
    "    if np.shape(fit_curve)[0]< 5:\n",
    "        #print(np.shape(fit_curve)[0])\n",
    "        ###add some element to the array to make it size 4000\n",
    "        dummy= np.asarray([best[2][:,0][-1]]*(3-len(best[2][:,0])))\n",
    "        #print(np.shape(dummy))\n",
    "        #print(np.shape(fit_curve))\n",
    "        fit_curve = np.concatenate((fit_curve,dummy),axis=0)\n",
    "\n",
    "    fit_curve_arr_SA[seed,:] = fit_curve"
   ]
  },
  {
   "cell_type": "code",
   "execution_count": 249,
   "metadata": {},
   "outputs": [],
   "source": [
    "###RHC \n",
    "fit_curve_arr_RHC = np.zeros((100,3))\n",
    "fittness_list_RHC = []\n",
    "time_list_RHC = []\n",
    "\n",
    "for seed in rs_list:\n",
    "\n",
    "    start_time = time.time()\n",
    "    best = mlrose_hiive.random_hill_climb(problem_k,max_attempts = 5, \n",
    "                                                      max_iters = 3,\n",
    "                                                      random_state = seed,curve=True)\n",
    "    time_buff =time.time() - start_time\n",
    "    \n",
    "    best_state, best_fitness = best[0],best[1]\n",
    "    time_list_RHC.append(time_buff)\n",
    "    fittness_list_RHC.append(best_fitness)\n",
    "    fit_curve = np.asarray(best[2][:,0]).flatten()\n",
    "    #print(np.shape(fit_curve)[0])\n",
    "    if np.shape(fit_curve)[0]< 3:\n",
    "        #print(np.shape(fit_curve)[0])\n",
    "        ###add some element to the array to make it size 4000\n",
    "        dummy= np.asarray([best[2][:,0][-1]]*(3-len(best[2][:,0])))\n",
    "        #print(np.shape(dummy))\n",
    "        #print(np.shape(fit_curve))\n",
    "        fit_curve = np.concatenate((fit_curve,dummy),axis=0)\n",
    "\n",
    "    fit_curve_arr_RHC[seed,:] = fit_curve"
   ]
  },
  {
   "cell_type": "code",
   "execution_count": 256,
   "metadata": {},
   "outputs": [
    {
     "name": "stdout",
     "output_type": "stream",
     "text": [
      "[5.55 5.94 5.96]\n",
      "[0.85293611 0.34117444 0.28      ]\n"
     ]
    }
   ],
   "source": [
    "print(np.mean(fit_curve_arr_MIMIC,axis=0))\n",
    "print(np.std(fit_curve_arr_MIMIC,axis=0))"
   ]
  },
  {
   "cell_type": "code",
   "execution_count": 393,
   "metadata": {},
   "outputs": [
    {
     "data": {
      "image/png": "[encoded data removed]",
      "text/plain": [
       "<Figure size 432x288 with 1 Axes>"
      ]
     },
     "metadata": {
      "needs_background": "light"
     },
     "output_type": "display_data"
    }
   ],
   "source": [
    "fit_curve_mean_MIMIC = np.mean(fit_curve_arr_MIMIC,axis=0)\n",
    "fit_curve_std_MIMIC = np.std(fit_curve_arr_MIMIC,axis=0)\n",
    "fit_curve_mean_GA = np.mean(fit_curve_arr_GA,axis=0)\n",
    "fit_curve_std_GA = np.std(fit_curve_arr_GA,axis=0)\n",
    "fit_curve_mean_SA = np.mean(fit_curve_arr_SA,axis=0)\n",
    "fit_curve_std_SA = np.std(fit_curve_arr_SA,axis=0)\n",
    "fit_curve_mean_RHC = np.mean(fit_curve_arr_RHC,axis=0)\n",
    "fit_curve_std_RHC = np.std(fit_curve_arr_RHC,axis=0)\n",
    "plt.plot(fit_curve_mean_RHC,label='RHC')\n",
    "plt.plot(fit_curve_mean_MIMIC,label='MIMIC')\n",
    "\n",
    "plt.fill_between(\n",
    "    range(3),\n",
    "    (fit_curve_mean_RHC - fit_curve_std_RHC),\n",
    "    (fit_curve_mean_RHC+ fit_curve_std_RHC),\n",
    "    alpha=0.3,\n",
    "    color=\"b\",\n",
    "    lw=2,\n",
    ")\n",
    "\n",
    "plt.fill_between(\n",
    "    range(3),\n",
    "    (fit_curve_mean_MIMIC - fit_curve_std_MIMIC),\n",
    "    (fit_curve_mean_MIMIC+ fit_curve_std_MIMIC),\n",
    "    alpha=0.2,\n",
    "    color=\"darkorange\",\n",
    "    lw=2,\n",
    ")\n",
    "\n",
    "plt.plot(fit_curve_mean_SA,label='SA')\n",
    "\n",
    "plt.fill_between(\n",
    "    range(3),\n",
    "    (fit_curve_mean_SA - fit_curve_std_SA),\n",
    "    (fit_curve_mean_SA+ fit_curve_std_SA),\n",
    "    alpha=0.2,\n",
    "    color=\"green\",\n",
    "    lw=2,\n",
    ")\n",
    "\n",
    "plt.plot(fit_curve_mean_GA,label='GA')\n",
    "\n",
    "plt.fill_between(\n",
    "    range(3),\n",
    "    (fit_curve_mean_GA - fit_curve_std_GA),\n",
    "    (fit_curve_mean_GA+ fit_curve_std_GA),\n",
    "    alpha=0.2,\n",
    "    color=\"red\",\n",
    "    lw=2,\n",
    ")\n",
    "\n",
    "plt.legend()\n",
    "plt.title('Mean Fittness vs Optimization Iteration(Max K Color 8 Edge)')\n",
    "plt.xlabel('Iteration')\n",
    "plt.ylabel('Fittness')\n",
    "plt.savefig('Figure_10.png')"
   ]
  },
  {
   "cell_type": "code",
   "execution_count": 263,
   "metadata": {},
   "outputs": [
    {
     "data": {
      "image/png": "[encoded data removed]",
      "text/plain": [
       "<Figure size 432x288 with 1 Axes>"
      ]
     },
     "metadata": {
      "needs_background": "light"
     },
     "output_type": "display_data"
    }
   ],
   "source": [
    "#plt.scatter([0,1,2,3,4,5,6,7],[success_time_RHC,failed_time_RHC,success_time_SA,failed_time_SA,success_time_GA,failed_time_GA,success_time_MIMIC,failed_time_MIMIC])\n",
    "time_list = [np.mean(time_list_RHC),np.mean(time_list_SA),np.mean(time_list_GA),np.mean(time_list_MIMIC)]\n",
    "time_list_error = [np.std(time_list_RHC),np.std(time_list_SA),np.std(time_list_GA),np.std(time_list_MIMIC)]\n",
    "\n",
    "\n",
    "\n",
    "time_label_list=['RHC','SA','GA','MIMIC']\n",
    "plt.scatter([0,1,2,3],time_list)\n",
    "plt.errorbar([0,1,2,3],time_list,yerr=time_list_error,fmt=\"o\")\n",
    "#print(time_list)\n",
    "plt.xticks([0,1,2,3],time_label_list)\n",
    "#plt.yscale('log')\n",
    "plt.ylabel('Average Run Time')\n",
    "plt.xlabel('Population Size')\n",
    "plt.title('Run Times of Different Algo(Max K Color Edge 8)')\n",
    "plt.savefig('Figure_11.png')"
   ]
  },
  {
   "cell_type": "markdown",
   "metadata": {},
   "source": [
    "Section II  NN\n",
    "\n",
    "Using the adult Dataset"
   ]
  },
  {
   "cell_type": "code",
   "execution_count": 4,
   "metadata": {},
   "outputs": [],
   "source": [
    "import pandas as pd\n",
    "from sklearn.model_selection import train_test_split\n",
    "from sklearn.preprocessing import OrdinalEncoder,MinMaxScaler, OneHotEncoder\n",
    "from scipy import stats\n",
    "from sklearn.preprocessing import StandardScaler\n",
    "import matplotlib.pyplot as plt\n",
    "from sklearn.metrics import f1_score\n",
    "from sklearn.model_selection import learning_curve\n",
    "from sklearn.metrics import f1_score, make_scorer\n",
    "data_1=pd.read_csv('adult.data', header=None, names=['age','workclass','fnlwgt','education','education-num','marital-status','occupation','relationship','race','sex','capital-gain','capital-loss','hours-per-week','native-country','50K'], sep=',\\s', na_values=[\"?\"])\n",
    "data_2=pd.read_csv('adult.test', header=None, names=['age','workclass','fnlwgt','education','education-num','marital-status','occupation','relationship','race','sex','capital-gain','capital-loss','hours-per-week','native-country','50K'], sep=',\\s', na_values=[\"?\"])\n",
    "\n",
    "adult_df = pd.concat([data_1,data_2])\n",
    "\n",
    "###clean all missing data, just delect all of those \n",
    "adult_df.replace(' ?',np.NaN,inplace=True)\n",
    "adult_df=adult_df.dropna()\n",
    "adult_df.replace('>50K.', '>',inplace=True)\n",
    "adult_df.replace('<=50K.', '<=',inplace=True)\n",
    "adult_df.replace('>50K', '>',inplace=True)\n",
    "adult_df.replace('<=50K', '<=',inplace=True)\n",
    "##normalize\n",
    "\n",
    "adult_label_col =['workclass','education','marital-status','occupation','relationship','race','sex','native-country','50K']\n",
    "adult_df[adult_label_col] = adult_df[adult_label_col].astype('category')\n",
    "adult_df[adult_label_col] = adult_df[adult_label_col].apply(lambda x: x.cat.codes)\n",
    "\n",
    "\n",
    "scaler = MinMaxScaler()\n",
    "#num_label = ['age','education-num','capital-gain','capital-loss','hours-per-week']\n",
    "all_label =list(adult_df)\n",
    "all_label.remove('50K')\n",
    "adult_df[all_label] = scaler.fit_transform(adult_df[all_label])\n",
    "#print(adult_df['hours-per-week'].std())\n",
    "X_adult, y_adult = adult_df.loc[:, adult_df.columns != '50K'],adult_df['50K']\n",
    "\n",
    "X_train_adult, X_test_adult, y_train_adult, y_test_adult = train_test_split(X_adult, y_adult, test_size=0.2, random_state=33)\n",
    "one_hot = OneHotEncoder()\n",
    "y_train_hot = one_hot.fit_transform(np.asarray(y_train_adult).reshape(-1, 1)).todense()\n",
    "y_test_hot = one_hot.transform(np.asarray(y_test_adult).reshape(-1, 1)).todense()"
   ]
  },
  {
   "cell_type": "code",
   "execution_count": 21,
   "metadata": {},
   "outputs": [],
   "source": [
    "# RHC\n",
    "nn_model1 = mlrose_hiive.NeuralNetwork(hidden_nodes = [16], activation = 'relu', \\\n",
    "                                 algorithm = 'random_hill_climb', max_iters = 10000, \\\n",
    "                                 bias = True, is_classifier = True, learning_rate = 0.5, \\\n",
    "                                 early_stopping = True, clip_max = 5, max_attempts = 10000, \\\n",
    "                                 random_state = 3,curve=True)\n",
    "start_time = time.time()\n",
    "nn_model1.fit(X_train_adult, y_train_hot)\n",
    "RHC_time =time.time() - start_time"
   ]
  },
  {
   "cell_type": "code",
   "execution_count": 471,
   "metadata": {},
   "outputs": [
    {
     "ename": "KeyboardInterrupt",
     "evalue": "",
     "output_type": "error",
     "traceback": [
      "\u001b[0;31m---------------------------------------------------------------------------\u001b[0m",
      "\u001b[0;31mKeyboardInterrupt\u001b[0m                         Traceback (most recent call last)",
      "\u001b[1;32m/home/sun/ml_7641/random_optimization/HW2.ipynb Cell 55\u001b[0m in \u001b[0;36m<cell line: 4>\u001b[0;34m()\u001b[0m\n\u001b[1;32m      <a href='vscode-notebook-cell://ssh-remote%2B7b22686f73744e616d65223a22362e7463702e6e67726f6b2e696f222c2275736572223a2273756e222c22706f7274223a31313039327d/home/sun/ml_7641/random_optimization/HW2.ipynb#Y150sdnNjb2RlLXJlbW90ZQ%3D%3D?line=5'>6</a>\u001b[0m rhc_nn_model\u001b[39m=\u001b[39m mlrose_hiive\u001b[39m.\u001b[39mNeuralNetwork(hidden_nodes \u001b[39m=\u001b[39m [\u001b[39m16\u001b[39m], activation \u001b[39m=\u001b[39m \u001b[39m'\u001b[39m\u001b[39mrelu\u001b[39m\u001b[39m'\u001b[39m, \\\n\u001b[1;32m      <a href='vscode-notebook-cell://ssh-remote%2B7b22686f73744e616d65223a22362e7463702e6e67726f6b2e696f222c2275736572223a2273756e222c22706f7274223a31313039327d/home/sun/ml_7641/random_optimization/HW2.ipynb#Y150sdnNjb2RlLXJlbW90ZQ%3D%3D?line=6'>7</a>\u001b[0m                              algorithm \u001b[39m=\u001b[39m \u001b[39m'\u001b[39m\u001b[39mrandom_hill_climb\u001b[39m\u001b[39m'\u001b[39m, max_iters \u001b[39m=\u001b[39m \u001b[39m100\u001b[39m, \\\n\u001b[1;32m      <a href='vscode-notebook-cell://ssh-remote%2B7b22686f73744e616d65223a22362e7463702e6e67726f6b2e696f222c2275736572223a2273756e222c22706f7274223a31313039327d/home/sun/ml_7641/random_optimization/HW2.ipynb#Y150sdnNjb2RlLXJlbW90ZQ%3D%3D?line=7'>8</a>\u001b[0m                              bias \u001b[39m=\u001b[39m \u001b[39mTrue\u001b[39;00m, is_classifier \u001b[39m=\u001b[39m \u001b[39mTrue\u001b[39;00m,pop_size\u001b[39m=\u001b[39m pop,\\\n\u001b[1;32m      <a href='vscode-notebook-cell://ssh-remote%2B7b22686f73744e616d65223a22362e7463702e6e67726f6b2e696f222c2275736572223a2273756e222c22706f7274223a31313039327d/home/sun/ml_7641/random_optimization/HW2.ipynb#Y150sdnNjb2RlLXJlbW90ZQ%3D%3D?line=8'>9</a>\u001b[0m                              early_stopping \u001b[39m=\u001b[39m \u001b[39mTrue\u001b[39;00m, clip_max \u001b[39m=\u001b[39m \u001b[39m5\u001b[39m, max_attempts \u001b[39m=\u001b[39m \u001b[39m10\u001b[39m, \\\n\u001b[1;32m     <a href='vscode-notebook-cell://ssh-remote%2B7b22686f73744e616d65223a22362e7463702e6e67726f6b2e696f222c2275736572223a2273756e222c22706f7274223a31313039327d/home/sun/ml_7641/random_optimization/HW2.ipynb#Y150sdnNjb2RlLXJlbW90ZQ%3D%3D?line=9'>10</a>\u001b[0m                              random_state \u001b[39m=\u001b[39m \u001b[39m3\u001b[39m,curve\u001b[39m=\u001b[39m\u001b[39mTrue\u001b[39;00m)\n\u001b[1;32m     <a href='vscode-notebook-cell://ssh-remote%2B7b22686f73744e616d65223a22362e7463702e6e67726f6b2e696f222c2275736572223a2273756e222c22706f7274223a31313039327d/home/sun/ml_7641/random_optimization/HW2.ipynb#Y150sdnNjb2RlLXJlbW90ZQ%3D%3D?line=10'>11</a>\u001b[0m start_time \u001b[39m=\u001b[39m time\u001b[39m.\u001b[39mtime()\n\u001b[0;32m---> <a href='vscode-notebook-cell://ssh-remote%2B7b22686f73744e616d65223a22362e7463702e6e67726f6b2e696f222c2275736572223a2273756e222c22706f7274223a31313039327d/home/sun/ml_7641/random_optimization/HW2.ipynb#Y150sdnNjb2RlLXJlbW90ZQ%3D%3D?line=11'>12</a>\u001b[0m rhc_nn_model\u001b[39m.\u001b[39;49mfit(X_train_adult, y_train_hot) \n\u001b[1;32m     <a href='vscode-notebook-cell://ssh-remote%2B7b22686f73744e616d65223a22362e7463702e6e67726f6b2e696f222c2275736572223a2273756e222c22706f7274223a31313039327d/home/sun/ml_7641/random_optimization/HW2.ipynb#Y150sdnNjb2RlLXJlbW90ZQ%3D%3D?line=12'>13</a>\u001b[0m time_buff \u001b[39m=\u001b[39mtime\u001b[39m.\u001b[39mtime() \u001b[39m-\u001b[39m start_time\n\u001b[1;32m     <a href='vscode-notebook-cell://ssh-remote%2B7b22686f73744e616d65223a22362e7463702e6e67726f6b2e696f222c2275736572223a2273756e222c22706f7274223a31313039327d/home/sun/ml_7641/random_optimization/HW2.ipynb#Y150sdnNjb2RlLXJlbW90ZQ%3D%3D?line=14'>15</a>\u001b[0m rhc_f_curve \u001b[39m=\u001b[39m rhc_nn_model\u001b[39m.\u001b[39mfitness_curve\n",
      "File \u001b[0;32m~/miniconda3/envs/playground/lib/python3.10/site-packages/mlrose_hiive/neural/_nn_core.py:153\u001b[0m, in \u001b[0;36m_NNCore.fit\u001b[0;34m(self, X, y, init_weights)\u001b[0m\n\u001b[1;32m    144\u001b[0m fitness, problem \u001b[39m=\u001b[39m \u001b[39mself\u001b[39m\u001b[39m.\u001b[39m_build_problem_and_fitness_function(X, y,\n\u001b[1;32m    145\u001b[0m                                                             node_list,\n\u001b[1;32m    146\u001b[0m                                                             \u001b[39mself\u001b[39m\u001b[39m.\u001b[39mactivation_dict[\u001b[39mself\u001b[39m\u001b[39m.\u001b[39mactivation],\n\u001b[0;32m   (...)\u001b[0m\n\u001b[1;32m    149\u001b[0m                                                             \u001b[39mself\u001b[39m\u001b[39m.\u001b[39mclip_max,\n\u001b[1;32m    150\u001b[0m                                                             \u001b[39mself\u001b[39m\u001b[39m.\u001b[39mis_classifier)\n\u001b[1;32m    152\u001b[0m \u001b[39mif\u001b[39;00m \u001b[39mself\u001b[39m\u001b[39m.\u001b[39malgorithm \u001b[39m==\u001b[39m \u001b[39m'\u001b[39m\u001b[39mrandom_hill_climb\u001b[39m\u001b[39m'\u001b[39m:\n\u001b[0;32m--> 153\u001b[0m     fitness_curve, fitted_weights, loss \u001b[39m=\u001b[39m \u001b[39mself\u001b[39;49m\u001b[39m.\u001b[39;49m__run_with_rhc(init_weights, num_nodes, problem)\n\u001b[1;32m    155\u001b[0m \u001b[39melif\u001b[39;00m \u001b[39mself\u001b[39m\u001b[39m.\u001b[39malgorithm \u001b[39m==\u001b[39m \u001b[39m'\u001b[39m\u001b[39msimulated_annealing\u001b[39m\u001b[39m'\u001b[39m:\n\u001b[1;32m    156\u001b[0m     fitness_curve, fitted_weights, loss \u001b[39m=\u001b[39m \u001b[39mself\u001b[39m\u001b[39m.\u001b[39m_run_with_sa(init_weights, num_nodes, problem)\n",
      "File \u001b[0;32m~/miniconda3/envs/playground/lib/python3.10/site-packages/mlrose_hiive/neural/_nn_core.py:243\u001b[0m, in \u001b[0;36m_NNCore.__run_with_rhc\u001b[0;34m(self, init_weights, num_nodes, problem)\u001b[0m\n\u001b[1;32m    239\u001b[0m     init_weights \u001b[39m=\u001b[39m np\u001b[39m.\u001b[39mrandom\u001b[39m.\u001b[39muniform(\u001b[39m-\u001b[39m\u001b[39m1\u001b[39m, \u001b[39m1\u001b[39m, num_nodes)\n\u001b[1;32m    241\u001b[0m \u001b[39mif\u001b[39;00m \u001b[39mself\u001b[39m\u001b[39m.\u001b[39mcurve:\n\u001b[1;32m    242\u001b[0m     current_weights, current_loss, fitness_curve \u001b[39m=\u001b[39m \\\n\u001b[0;32m--> 243\u001b[0m         random_hill_climb(problem,\n\u001b[1;32m    244\u001b[0m                           max_attempts\u001b[39m=\u001b[39;49m\u001b[39mself\u001b[39;49m\u001b[39m.\u001b[39;49mmax_attempts \u001b[39mif\u001b[39;49;00m\n\u001b[1;32m    245\u001b[0m                           \u001b[39mself\u001b[39;49m\u001b[39m.\u001b[39;49mearly_stopping \u001b[39melse\u001b[39;49;00m\n\u001b[1;32m    246\u001b[0m                           \u001b[39mself\u001b[39;49m\u001b[39m.\u001b[39;49mmax_iters,\n\u001b[1;32m    247\u001b[0m                           max_iters\u001b[39m=\u001b[39;49m\u001b[39mself\u001b[39;49m\u001b[39m.\u001b[39;49mmax_iters,\n\u001b[1;32m    248\u001b[0m                           restarts\u001b[39m=\u001b[39;49m\u001b[39m0\u001b[39;49m, init_state\u001b[39m=\u001b[39;49minit_weights,\n\u001b[1;32m    249\u001b[0m                           curve\u001b[39m=\u001b[39;49m\u001b[39mself\u001b[39;49m\u001b[39m.\u001b[39;49mcurve)\n\u001b[1;32m    250\u001b[0m \u001b[39melse\u001b[39;00m:\n\u001b[1;32m    251\u001b[0m     current_weights, current_loss, _ \u001b[39m=\u001b[39m random_hill_climb(\n\u001b[1;32m    252\u001b[0m         problem,\n\u001b[1;32m    253\u001b[0m         max_attempts\u001b[39m=\u001b[39m\u001b[39mself\u001b[39m\u001b[39m.\u001b[39mmax_attempts \u001b[39mif\u001b[39;00m \u001b[39mself\u001b[39m\u001b[39m.\u001b[39mearly_stopping\n\u001b[1;32m    254\u001b[0m         \u001b[39melse\u001b[39;00m \u001b[39mself\u001b[39m\u001b[39m.\u001b[39mmax_iters,\n\u001b[1;32m    255\u001b[0m         max_iters\u001b[39m=\u001b[39m\u001b[39mself\u001b[39m\u001b[39m.\u001b[39mmax_iters,\n\u001b[1;32m    256\u001b[0m         restarts\u001b[39m=\u001b[39m\u001b[39m0\u001b[39m, init_state\u001b[39m=\u001b[39minit_weights, curve\u001b[39m=\u001b[39m\u001b[39mself\u001b[39m\u001b[39m.\u001b[39mcurve)\n",
      "File \u001b[0;32m~/miniconda3/envs/playground/lib/python3.10/site-packages/mlrose_hiive/algorithms/rhc.py:121\u001b[0m, in \u001b[0;36mrandom_hill_climb\u001b[0;34m(problem, max_attempts, max_iters, restarts, init_state, curve, random_state, state_fitness_callback, callback_user_info)\u001b[0m\n\u001b[1;32m    119\u001b[0m \u001b[39m# Find random neighbor and evaluate fitness\u001b[39;00m\n\u001b[1;32m    120\u001b[0m next_state \u001b[39m=\u001b[39m problem\u001b[39m.\u001b[39mrandom_neighbor()\n\u001b[0;32m--> 121\u001b[0m next_fitness \u001b[39m=\u001b[39m problem\u001b[39m.\u001b[39;49meval_fitness(next_state)\n\u001b[1;32m    123\u001b[0m \u001b[39m# If best neighbor is an improvement,\u001b[39;00m\n\u001b[1;32m    124\u001b[0m \u001b[39m# move to that state and reset attempts counter\u001b[39;00m\n\u001b[1;32m    125\u001b[0m current_fitness \u001b[39m=\u001b[39m problem\u001b[39m.\u001b[39mget_fitness()\n",
      "File \u001b[0;32m~/miniconda3/envs/playground/lib/python3.10/site-packages/mlrose_hiive/opt_probs/_opt_prob.py:98\u001b[0m, in \u001b[0;36m_OptProb.eval_fitness\u001b[0;34m(self, state)\u001b[0m\n\u001b[1;32m     95\u001b[0m \u001b[39mif\u001b[39;00m \u001b[39mlen\u001b[39m(state) \u001b[39m!=\u001b[39m \u001b[39mself\u001b[39m\u001b[39m.\u001b[39mlength:\n\u001b[1;32m     96\u001b[0m     \u001b[39mraise\u001b[39;00m \u001b[39mException\u001b[39;00m(\u001b[39m\"\u001b[39m\u001b[39mstate length must match problem length\u001b[39m\u001b[39m\"\u001b[39m)\n\u001b[0;32m---> 98\u001b[0m fitness \u001b[39m=\u001b[39m \u001b[39mself\u001b[39m\u001b[39m.\u001b[39mmaximize\u001b[39m*\u001b[39m\u001b[39mself\u001b[39;49m\u001b[39m.\u001b[39;49mfitness_fn\u001b[39m.\u001b[39;49mevaluate(state)\n\u001b[1;32m     99\u001b[0m \u001b[39m# increment fevals for the current iteration\u001b[39;00m\n\u001b[1;32m    100\u001b[0m \u001b[39mself\u001b[39m\u001b[39m.\u001b[39mfitness_evaluations \u001b[39m+\u001b[39m\u001b[39m=\u001b[39m \u001b[39m1\u001b[39m\n",
      "File \u001b[0;32m~/miniconda3/envs/playground/lib/python3.10/site-packages/mlrose_hiive/neural/fitness/network_weights.py:142\u001b[0m, in \u001b[0;36mNetworkWeights.evaluate\u001b[0;34m(self, state)\u001b[0m\n\u001b[1;32m    140\u001b[0m \u001b[39m# Transform outputs to get inputs for next layer (or final preds)\u001b[39;00m\n\u001b[1;32m    141\u001b[0m \u001b[39mif\u001b[39;00m i \u001b[39m<\u001b[39m \u001b[39mlen\u001b[39m(\u001b[39mself\u001b[39m\u001b[39m.\u001b[39mweights) \u001b[39m-\u001b[39m \u001b[39m1\u001b[39m:\n\u001b[0;32m--> 142\u001b[0m     inputs \u001b[39m=\u001b[39m \u001b[39mself\u001b[39;49m\u001b[39m.\u001b[39;49mactivation(outputs)\n\u001b[1;32m    143\u001b[0m \u001b[39melse\u001b[39;00m:\n\u001b[1;32m    144\u001b[0m     \u001b[39mself\u001b[39m\u001b[39m.\u001b[39my_pred \u001b[39m=\u001b[39m \u001b[39mself\u001b[39m\u001b[39m.\u001b[39moutput_activation(outputs)\n",
      "File \u001b[0;32m~/miniconda3/envs/playground/lib/python3.10/site-packages/mlrose_hiive/neural/activation/relu.py:34\u001b[0m, in \u001b[0;36mrelu\u001b[0;34m(x, deriv)\u001b[0m\n\u001b[1;32m     31\u001b[0m fx \u001b[39m=\u001b[39m np\u001b[39m.\u001b[39mcopy(x)\n\u001b[1;32m     32\u001b[0m fx[np\u001b[39m.\u001b[39mwhere(fx \u001b[39m<\u001b[39m \u001b[39m0\u001b[39m)] \u001b[39m=\u001b[39m \u001b[39m0\u001b[39m\n\u001b[0;32m---> 34\u001b[0m \u001b[39mif\u001b[39;00m deriv:\n\u001b[1;32m     35\u001b[0m     fx[np\u001b[39m.\u001b[39mwhere(fx \u001b[39m>\u001b[39m \u001b[39m0\u001b[39m)] \u001b[39m=\u001b[39m \u001b[39m1\u001b[39m\n\u001b[1;32m     37\u001b[0m \u001b[39mreturn\u001b[39;00m fx\n",
      "\u001b[0;31mKeyboardInterrupt\u001b[0m: "
     ]
    }
   ],
   "source": [
    "l_rate_list = [0.75,0.5,0.1,0.05,0.01,0.005,0.001,0.0005,0.0001]\n",
    "rhc_f_curve_list = []\n",
    "rhc_time_list = []\n",
    "for rate in l_rate_list:\n",
    "\n",
    "    rhc_nn_model= mlrose_hiive.NeuralNetwork(hidden_nodes = [16], activation = 'relu', \\\n",
    "                                 algorithm = 'random_hill_climb', max_iters = 2000, \\\n",
    "                                 bias = True, is_classifier = True, learning_rate = rate, \\\n",
    "                                 early_stopping = True, clip_max = 5, max_attempts = 1000, \\\n",
    "                                 random_state = 3,curve=True)\n",
    "    start_time = time.time()\n",
    "    rhc_nn_model.fit(X_train_adult, y_train_hot) \n",
    "    time_buff =time.time() - start_time\n",
    "\n",
    "    rhc_f_curve = rhc_nn_model.fitness_curve\n",
    "    rhc_time_list.append(time_buff)\n",
    "    rhc_f_curve_list.append(rhc_f_curve)\n"
   ]
  },
  {
   "cell_type": "code",
   "execution_count": 409,
   "metadata": {},
   "outputs": [
    {
     "name": "stdout",
     "output_type": "stream",
     "text": [
      "[[1.44769321e+00 1.00000000e+00]\n",
      " [1.44765986e+00 3.00000000e+00]\n",
      " [1.44765986e+00 5.00000000e+00]\n",
      " ...\n",
      " [1.43706120e+00 2.85200000e+03]\n",
      " [1.43706120e+00 2.85300000e+03]\n",
      " [1.43706115e+00 2.85500000e+03]]\n"
     ]
    }
   ],
   "source": [
    "print(rhc_f_curve)"
   ]
  },
  {
   "cell_type": "code",
   "execution_count": 453,
   "metadata": {},
   "outputs": [
    {
     "data": {
      "image/png": "[encoded data removed]",
      "text/plain": [
       "<Figure size 432x288 with 1 Axes>"
      ]
     },
     "metadata": {
      "needs_background": "light"
     },
     "output_type": "display_data"
    }
   ],
   "source": [
    "for i in range(len(l_rate_list)):\n",
    "    plt.plot(rhc_f_curve_list[i][:,0],label=str(l_rate_list[i]))\n",
    "plt.legend(loc=2)\n",
    "plt.title('RHC Loss Curve With Different Learning Rate')\n",
    "plt.xlabel('Iteration')\n",
    "plt.ylabel('Log Loss')\n",
    "plt.savefig('Figure_12.png')"
   ]
  },
  {
   "cell_type": "code",
   "execution_count": 405,
   "metadata": {},
   "outputs": [
    {
     "name": "stdout",
     "output_type": "stream",
     "text": [
      "0.7830672399273529\n",
      "0.7823788064269787\n"
     ]
    }
   ],
   "source": [
    "print(f1_score(y_train_hot,nn_model1.predict(X_train_adult),average='weighted'))\n",
    "print(f1_score(y_test_hot,nn_model1.predict(X_test_adult),average='weighted'))\n"
   ]
  },
  {
   "cell_type": "code",
   "execution_count": 24,
   "metadata": {},
   "outputs": [],
   "source": [
    "# SA\n",
    "schedule = mlrose_hiive.ExpDecay()\n",
    "nn_model2 = mlrose_hiive.NeuralNetwork(hidden_nodes = [16], activation = 'relu', \\\n",
    "                                 algorithm = 'simulated_annealing', max_iters = 10000, \\\n",
    "                                 bias = True, is_classifier = True, learning_rate = 0.5, \\\n",
    "                                 early_stopping = True, clip_max = 5, max_attempts = 10000, \\\n",
    "                                 random_state = 3,schedule=schedule,curve=True)\n",
    "\n",
    "start_time = time.time()\n",
    "nn_model2.fit(X_train_adult, y_train_hot)\n",
    "SA_time =time.time() - start_time"
   ]
  },
  {
   "cell_type": "code",
   "execution_count": 426,
   "metadata": {},
   "outputs": [],
   "source": [
    "l_rate_list = [0.75,0.5,0.1,0.05,0.01,0.005,0.001,0.0005,0.0001]\n",
    "sa_f_curve_list = []\n",
    "sa_time_list=[]\n",
    "for rate in l_rate_list:\n",
    "    sa_nn_model = mlrose_hiive.NeuralNetwork(hidden_nodes = [16], activation = 'relu', \\\n",
    "                                 algorithm = 'simulated_annealing', max_iters = 10000, \\\n",
    "                                 bias = True, is_classifier = True, learning_rate = rate, \\\n",
    "                                 early_stopping = True, clip_max = 5, max_attempts = 1000, \\\n",
    "                                 random_state = 3,schedule=schedule,curve=True)\n",
    "     \n",
    "    start_time = time.time()\n",
    "    sa_nn_model.fit(X_train_adult, y_train_hot) \n",
    "    time_buff =time.time() - start_time\n",
    "\n",
    "    sa_f_curve = sa_nn_model.fitness_curve\n",
    "    sa_time_list.append(time_buff)\n",
    "    sa_f_curve_list.append(sa_f_curve)\n"
   ]
  },
  {
   "cell_type": "code",
   "execution_count": 454,
   "metadata": {},
   "outputs": [
    {
     "data": {
      "image/png": "[encoded data removed]",
      "text/plain": [
       "<Figure size 432x288 with 1 Axes>"
      ]
     },
     "metadata": {
      "needs_background": "light"
     },
     "output_type": "display_data"
    }
   ],
   "source": [
    "for i in range(len(l_rate_list)):\n",
    "    plt.plot(sa_f_curve_list[i][:,0],label=str(l_rate_list[i]))\n",
    "plt.legend(loc=2)\n",
    "plt.legend(loc=2)\n",
    "plt.title('SA Loss Curve With Different Learning Rate')\n",
    "plt.xlabel('Iteration')\n",
    "plt.ylabel('Log Loss')\n",
    "plt.savefig('Figure_13.png')"
   ]
  },
  {
   "cell_type": "code",
   "execution_count": 394,
   "metadata": {},
   "outputs": [
    {
     "name": "stdout",
     "output_type": "stream",
     "text": [
      "0.8227124303852701\n",
      "0.8241212295548487\n"
     ]
    }
   ],
   "source": [
    "print(f1_score(y_train_hot,nn_model2.predict(X_train_adult),average='weighted'))\n",
    "print(f1_score(y_test_hot,nn_model2.predict(X_test_adult),average='weighted'))\n"
   ]
  },
  {
   "cell_type": "code",
   "execution_count": 19,
   "metadata": {},
   "outputs": [],
   "source": [
    "# GA\n",
    "nn_model3 = mlrose_hiive.NeuralNetwork(hidden_nodes = [16], activation = 'relu', \\\n",
    "                                 algorithm = 'genetic_alg', max_iters = 10000, \\\n",
    "                                 bias = True, is_classifier = True, \\\n",
    "                                 early_stopping = True, clip_max = 5, max_attempts = 10, \\\n",
    "                                 random_state = 3,pop_size=1000,curve=True)\n",
    "    \n",
    "start_time = time.time()\n",
    "nn_model3.fit(X_train_adult, y_train_hot)\n",
    "GA_time =time.time() - start_time"
   ]
  },
  {
   "cell_type": "code",
   "execution_count": 457,
   "metadata": {},
   "outputs": [
    {
     "data": {
      "text/plain": [
       "[<matplotlib.lines.Line2D at 0x7f8a939aa020>]"
      ]
     },
     "execution_count": 457,
     "metadata": {},
     "output_type": "execute_result"
    },
    {
     "data": {
      "image/png": "[encoded data removed]",
      "text/plain": [
       "<Figure size 432x288 with 1 Axes>"
      ]
     },
     "metadata": {
      "needs_background": "light"
     },
     "output_type": "display_data"
    }
   ],
   "source": [
    "plt.plot(nn_model3.fitness_curve[:,0])"
   ]
  },
  {
   "cell_type": "code",
   "execution_count": 474,
   "metadata": {},
   "outputs": [],
   "source": [
    "#l_rate_list = [0.5,0.1,0.05,0.01,0.005,0.001,0.0005,0.0001]\n",
    "pop_list = [50,100,200,300]\n",
    "ga_f_curve_list = []\n",
    "ga_time_list =[]\n",
    "for pop in pop_list:\n",
    "    ga_nn_model = mlrose_hiive.NeuralNetwork(hidden_nodes = [16], activation = 'relu', \\\n",
    "                                 algorithm = 'genetic_alg', max_iters =50, \\\n",
    "                                 bias = True, is_classifier = True, \\\n",
    "                                 early_stopping = True, clip_max = 5, max_attempts = 10, \\\n",
    "                                 random_state = 3,pop_size=pop,curve=True)\n",
    "     \n",
    "    start_time = time.time()\n",
    "    ga_nn_model.fit(X_train_adult, y_train_hot) \n",
    "    time_buff =time.time() - start_time\n",
    "\n",
    "    ga_f_curve = ga_nn_model.fitness_curve\n",
    "    ga_time_list.append(time_buff)\n",
    "    ga_f_curve_list.append(ga_f_curve)"
   ]
  },
  {
   "cell_type": "code",
   "execution_count": 477,
   "metadata": {},
   "outputs": [
    {
     "name": "stdout",
     "output_type": "stream",
     "text": [
      "[[2.26034852e+00 6.03000000e+02]\n",
      " [2.26034852e+00 9.04000000e+02]\n",
      " [2.26034852e+00 1.20500000e+03]\n",
      " [1.91734991e+00 1.50700000e+03]\n",
      " [1.91734991e+00 1.80800000e+03]\n",
      " [1.91734991e+00 2.10900000e+03]\n",
      " [1.91734991e+00 2.41000000e+03]\n",
      " [1.91734991e+00 2.71100000e+03]\n",
      " [1.57686081e+00 3.01300000e+03]\n",
      " [1.57686081e+00 3.31400000e+03]\n",
      " [1.57686081e+00 3.61500000e+03]\n",
      " [1.57686081e+00 3.91600000e+03]\n",
      " [1.57686081e+00 4.21700000e+03]\n",
      " [1.31407731e+00 4.51900000e+03]\n",
      " [1.31407731e+00 4.82000000e+03]\n",
      " [1.31407731e+00 5.12100000e+03]\n",
      " [1.29403120e+00 5.42300000e+03]\n",
      " [1.26438553e+00 5.72500000e+03]\n",
      " [1.26438553e+00 6.02600000e+03]\n",
      " [1.25970839e+00 6.32800000e+03]\n",
      " [1.25970839e+00 6.62900000e+03]\n",
      " [1.17878145e+00 6.93100000e+03]\n",
      " [1.17878145e+00 7.23200000e+03]\n",
      " [1.14743497e+00 7.53400000e+03]\n",
      " [8.42020027e-01 7.83600000e+03]\n",
      " [8.40842348e-01 8.13800000e+03]\n",
      " [8.40842348e-01 8.43900000e+03]\n",
      " [8.40842348e-01 8.74000000e+03]\n",
      " [8.40842348e-01 9.04100000e+03]\n",
      " [6.76001251e-01 9.34300000e+03]\n",
      " [6.76001251e-01 9.64400000e+03]\n",
      " [6.76001251e-01 9.94500000e+03]\n",
      " [6.76001251e-01 1.02460000e+04]\n",
      " [6.76001251e-01 1.05470000e+04]\n",
      " [6.76001251e-01 1.08480000e+04]\n",
      " [6.76001251e-01 1.11490000e+04]\n",
      " [6.76001251e-01 1.14500000e+04]\n",
      " [6.76001251e-01 1.17510000e+04]\n",
      " [6.76001251e-01 1.20520000e+04]\n",
      " [5.70946259e-01 1.23540000e+04]\n",
      " [5.70946259e-01 1.26550000e+04]\n",
      " [5.70946259e-01 1.29560000e+04]\n",
      " [5.70946259e-01 1.32570000e+04]\n",
      " [5.70946259e-01 1.35580000e+04]\n",
      " [5.70946259e-01 1.38590000e+04]\n",
      " [5.70946259e-01 1.41600000e+04]\n",
      " [5.70946259e-01 1.44610000e+04]\n",
      " [5.70946259e-01 1.47620000e+04]\n",
      " [5.70946259e-01 1.50630000e+04]\n",
      " [5.70946259e-01 1.53640000e+04]]\n"
     ]
    }
   ],
   "source": [
    "print(ga_f_curve)"
   ]
  },
  {
   "cell_type": "code",
   "execution_count": 482,
   "metadata": {},
   "outputs": [
    {
     "data": {
      "image/png": "[encoded data removed]",
      "text/plain": [
       "<Figure size 432x288 with 1 Axes>"
      ]
     },
     "metadata": {
      "needs_background": "light"
     },
     "output_type": "display_data"
    }
   ],
   "source": [
    "\n",
    "for i in range(len(pop_list)):\n",
    "    plt.plot(ga_f_curve_list[i][:,0],label=str(pop_list[i]))\n",
    "plt.legend(loc=2)\n",
    "\n",
    "plt.title('GA Loss Curve With Different Population Size')\n",
    "plt.xlabel('Iteration')\n",
    "plt.ylabel('Log Loss')\n",
    "plt.savefig('Figure_14.png')"
   ]
  },
  {
   "cell_type": "code",
   "execution_count": null,
   "metadata": {},
   "outputs": [],
   "source": [
    "\n",
    "for i in range(len(pop_list)):\n",
    "    plt.scatter(pop_list[i],ga_time_list[i])\n",
    "plt.legend(loc=2)\n",
    "plt.xlabel('Population Size')\n",
    "plt.ylabel('Wall Time')\n",
    "plt.savefig('Figure_16.png')"
   ]
  },
  {
   "cell_type": "code",
   "execution_count": null,
   "metadata": {},
   "outputs": [],
   "source": [
    "plt.plot(nn_model3.fitness_curve)"
   ]
  },
  {
   "cell_type": "code",
   "execution_count": 444,
   "metadata": {},
   "outputs": [
    {
     "name": "stdout",
     "output_type": "stream",
     "text": [
      "0.779691177213484\n",
      "0.7791253663841665\n"
     ]
    }
   ],
   "source": [
    "print(f1_score(y_train_hot,nn_model3.predict(X_train_adult),average='weighted'))\n",
    "print(f1_score(y_test_hot,nn_model3.predict(X_test_adult),average='weighted'))"
   ]
  },
  {
   "cell_type": "code",
   "execution_count": null,
   "metadata": {},
   "outputs": [],
   "source": [
    "from sklearn.neural_network import MLPClassifier\n",
    "clf=MLPClassifier(random_state=0,solver='adam',learning_rate_init=0.01,max_iter=5000,activation='relu',hidden_layer_sizes=(16),early_stopping=True,validation_fraction=0.1)\n",
    "clf.fit(X_train_adult, y_train_hot)"
   ]
  },
  {
   "cell_type": "code",
   "execution_count": null,
   "metadata": {},
   "outputs": [],
   "source": [
    "print(f1_score(y_train_hot,clf.predict(X_train_adult),average='weighted'))"
   ]
  },
  {
   "cell_type": "code",
   "execution_count": 18,
   "metadata": {},
   "outputs": [],
   "source": [
    "# GD\n",
    "nn_model4 = mlrose_hiive.NeuralNetwork(hidden_nodes = [16], activation = 'relu', \\\n",
    "                                 algorithm = 'gradient_descent', max_iters = 10000, \\\n",
    "                                 bias = True, is_classifier = True, learning_rate = 0.00001, \\\n",
    "                                 early_stopping = True, clip_max = 5, max_attempts = 10, \\\n",
    "                                 random_state = 3,curve=True)\n",
    "\n",
    "start_time = time.time()\n",
    "fitness_curve=nn_model4.fit(X_train_adult, y_train_hot)\n",
    "gd_time =time.time() - start_time"
   ]
  },
  {
   "cell_type": "code",
   "execution_count": 468,
   "metadata": {},
   "outputs": [],
   "source": [
    "l_rate_list = [0.5,0.1,0.05,0.01,0.005,0.001,0.0005,0.0001,0.00001]\n",
    "gd_f_curve_list = []\n",
    "gd_time_list =[]\n",
    "for rate in l_rate_list:\n",
    "    gd_nn_model = mlrose_hiive.NeuralNetwork(hidden_nodes = [16], activation = 'relu', \\\n",
    "                                 algorithm = 'gradient_descent', max_iters = 1000, \\\n",
    "                                 bias = True, is_classifier = True, learning_rate = rate, \\\n",
    "                                 early_stopping = True, clip_max = 5, max_attempts = 1000, \\\n",
    "                                 random_state = 3,curve=True)\n",
    "\n",
    "     \n",
    "    start_time = time.time()\n",
    "    gd_nn_model.fit(X_train_adult, y_train_hot) \n",
    "    time_buff =time.time() - start_time\n",
    "\n",
    "    gd_f_curve = gd_nn_model.fitness_curve\n",
    "    gd_time_list.append(time_buff)\n",
    "    gd_f_curve_list.append(gd_f_curve)"
   ]
  },
  {
   "cell_type": "code",
   "execution_count": 390,
   "metadata": {},
   "outputs": [
    {
     "data": {
      "text/plain": [
       "array([-1.44769321, -8.57239885, -0.69638618, -0.69304246, -0.69238364,\n",
       "       -0.69145954, -0.6894579 , -0.6828582 , -0.65218678, -0.56835777,\n",
       "       -0.56186765, -0.55832127, -0.56620264, -0.60327668, -0.68704936,\n",
       "       -0.66507484, -0.58347859, -0.5948491 , -0.68056311, -0.65595345,\n",
       "       -0.56985157, -0.58226013, -0.66900599, -0.62524514, -0.51933048,\n",
       "       -0.52328711, -0.55152309, -0.56331329, -0.64941052, -0.57296676,\n",
       "       -0.52109219, -0.55833317, -0.52440431, -0.57325225, -0.50744984,\n",
       "       -0.526966  , -0.53741166, -0.60951119, -0.50658287, -0.52022879,\n",
       "       -0.57257452, -0.49298229, -0.49366091, -0.50407873, -0.54164902,\n",
       "       -0.4944884 , -0.53152124, -0.4952745 , -0.55514421, -0.48087019,\n",
       "       -0.48825915, -0.50567089, -0.58416692, -0.47127076, -0.47359958,\n",
       "       -0.50313422, -0.5118021 , -0.61169248, -0.50278834, -0.52022945,\n",
       "       -0.60112829, -0.49534007, -0.5103576 , -0.57819917, -0.4758872 ,\n",
       "       -0.48413662, -0.51592499, -0.47786538, -0.5133742 , -0.47857936,\n",
       "       -0.5053163 , -0.46810345, -0.4948148 , -0.47316662, -0.51230715,\n",
       "       -0.46377691, -0.48676877, -0.47471405, -0.51650551, -0.46286292,\n",
       "       -0.48448192, -0.47569857, -0.51163608, -0.46891031, -0.49857989,\n",
       "       -0.47841623, -0.51787881, -0.45769236, -0.47205084, -0.46673281,\n",
       "       -0.50050188, -0.45886007, -0.48561371, -0.46495138, -0.49566153,\n",
       "       -0.47403212, -0.52043332, -0.45994857, -0.46714098, -0.47160312,\n",
       "       -0.50385738, -0.45196989, -0.46530498, -0.45967264, -0.48743856,\n",
       "       -0.44927291, -0.52305195, -0.54311579, -0.63467291, -0.55453702,\n",
       "       -0.46159313, -0.45309947, -0.45662068, -0.45860577, -0.48953555,\n",
       "       -0.4556728 , -0.46766095, -0.45908592, -0.49201233, -0.45351003,\n",
       "       -0.46329971, -0.45768277, -0.48988175, -0.45240331, -0.46295305,\n",
       "       -0.45683971, -0.48889344, -0.4514335 , -0.46199116, -0.45544008,\n",
       "       -0.48669228, -0.45041528, -0.46134887, -0.45433697, -0.48486422,\n",
       "       -0.44957365, -0.46106569, -0.45317779, -0.48303678, -0.44838068,\n",
       "       -0.46001985, -0.45211684, -0.48150834, -0.44750398, -0.4593461 ,\n",
       "       -0.45065703, -0.47881258, -0.44613778, -0.45807067, -0.44962368,\n",
       "       -0.47753024, -0.44482584, -0.45631118, -0.44859965, -0.47622437,\n",
       "       -0.44357499, -0.45506661, -0.44727092, -0.47396159, -0.44247301,\n",
       "       -0.45442422, -0.44575967, -0.47136275, -0.44141799, -0.45362209,\n",
       "       -0.44434499, -0.46930046, -0.44007427, -0.4522643 , -0.44297996,\n",
       "       -0.46733429, -0.43839397, -0.45071951, -0.44137164, -0.46592757,\n",
       "       -0.43620099, -0.447439  , -0.43036084, -0.51287492, -0.56663473,\n",
       "       -0.64561067, -0.59773452, -0.50619245, -0.44264728, -0.44039328,\n",
       "       -0.43926648, -0.44805616, -0.4522442 , -0.49395295, -0.43944581,\n",
       "       -0.44759631, -0.45070917, -0.49010018, -0.43856785, -0.44668227,\n",
       "       -0.4481134 , -0.48283781, -0.43743911, -0.446329  , -0.44450817,\n",
       "       -0.47242983, -0.4356661 , -0.44400075, -0.44023108, -0.4601698 ,\n",
       "       -0.43382409, -0.44129652, -0.43648696, -0.45130696, -0.4336813 ,\n",
       "       -0.44253667, -0.43532063, -0.44949316, -0.43309664, -0.44310297,\n",
       "       -0.43471864, -0.44973822, -0.43203342, -0.44195656, -0.43420841,\n",
       "       -0.44988083, -0.43082177, -0.44057355, -0.4332031 , -0.44910158,\n",
       "       -0.429965  , -0.43988081, -0.43215541, -0.44824498, -0.42881534,\n",
       "       -0.43881465, -0.4311098 , -0.44779691, -0.42735621, -0.43704688,\n",
       "       -0.429166  , -0.44494881, -0.41710405, -0.45194395, -0.52836672,\n",
       "       -0.61162607, -0.53361634, -0.43670807, -0.43111194, -0.4326093 ,\n",
       "       -0.42633303, -0.4313904 , -0.42742455, -0.4379826 , -0.42553903,\n",
       "       -0.43359324, -0.42505357, -0.43405672, -0.41467989, -0.45199959,\n",
       "       -0.52506896, -0.60143436, -0.51614483, -0.42975965, -0.42443857,\n",
       "       -0.42355454, -0.42299592, -0.42747043, -0.42430579, -0.43148452,\n",
       "       -0.42377754, -0.43082642, -0.42297959, -0.42983342, -0.41298898,\n",
       "       -0.44220475, -0.49704635, -0.56417017, -0.46419405, -0.41959366,\n",
       "       -0.41764203, -0.41663925, -0.41623549, -0.41433958, -0.4116629 ,\n",
       "       -0.40914924, -0.43428369, -0.49733506, -0.56164706, -0.46222023,\n",
       "       -0.41808128, -0.41530358, -0.41123896, -0.40910743, -0.41760365,\n",
       "       -0.45563042, -0.46407851, -0.50745694, -0.42380221, -0.42112422,\n",
       "       -0.42450098, -0.4200161 , -0.42397424, -0.4192557 , -0.4236091 ,\n",
       "       -0.41816559, -0.42176718, -0.40900154, -0.42834575, -0.46498218,\n",
       "       -0.51011978, -0.42334027, -0.41020664, -0.42071502, -0.44474851,\n",
       "       -0.46836791, -0.40415699, -0.40116934, -0.40520497, -0.4305959 ,\n",
       "       -0.48334128, -0.41839552, -0.42041309, -0.41782526, -0.42067686,\n",
       "       -0.41797611, -0.42167092, -0.41819991, -0.42277252, -0.41832259,\n",
       "       -0.42365551, -0.41832555, -0.42424301, -0.41831689, -0.42464343,\n",
       "       -0.41800771, -0.42448276, -0.41759922, -0.42425772, -0.41668334,\n",
       "       -0.42300315, -0.41335866, -0.41593583, -0.40890059, -0.45219448,\n",
       "       -0.47350067, -0.51808682, -0.43298834, -0.41799426, -0.41912355,\n",
       "       -0.41554158, -0.41823473, -0.41482825, -0.41803848, -0.41479364,\n",
       "       -0.41880072, -0.41502164, -0.41988096, -0.41515383, -0.42073947,\n",
       "       -0.41481363, -0.42070633, -0.41337516, -0.41827739, -0.40461797,\n",
       "       -0.42729826, -0.46032137, -0.49909351, -0.42242219, -0.41638548,\n",
       "       -0.41953182, -0.41312807, -0.41515291, -0.40558932, -0.41064124,\n",
       "       -0.42969428, -0.44932313, -0.39600372, -0.39299394, -0.39466509,\n",
       "       -0.41624824, -0.46627904, -0.42111863, -0.43123533, -0.41163704,\n",
       "       -0.41352686, -0.41230936, -0.41601199, -0.41317192, -0.41795014,\n",
       "       -0.4136001 , -0.4192494 , -0.41337061, -0.41909196, -0.41321821,\n",
       "       -0.41936463, -0.4129895 , -0.41938473, -0.41270582, -0.41910551,\n",
       "       -0.41247485, -0.41910884, -0.41219627, -0.41913715, -0.41168829,\n",
       "       -0.41844657, -0.41128875, -0.41829967, -0.41081967, -0.4178297 ,\n",
       "       -0.40960103, -0.41599486, -0.40651801, -0.4082449 , -0.38937176,\n",
       "       -0.40907853, -0.50607675, -0.53163053, -0.45457596, -0.42005414,\n",
       "       -0.41379513, -0.41311184, -0.41401786, -0.40266814, -0.44338215,\n",
       "       -0.53185498, -0.57455145, -0.49453963, -0.43772197, -0.42178683,\n",
       "       -0.41283817, -0.40886302, -0.40787521, -0.40716458, -0.40753021,\n",
       "       -0.40718093, -0.40825621, -0.40757094, -0.40933676, -0.4080653 ,\n",
       "       -0.41054757, -0.40856419, -0.41194994, -0.40861391, -0.41253833,\n",
       "       -0.40759061, -0.41097181, -0.4028508 , -0.40064089, -0.39583821,\n",
       "       -0.43666286, -0.47255911, -0.49997807, -0.4302833 , -0.41396939,\n",
       "       -0.4137815 , -0.41179055, -0.41328111, -0.41014931, -0.41111976,\n",
       "       -0.40813024, -0.40917383, -0.4073639 , -0.40976385, -0.40720208,\n",
       "       -0.41029386, -0.40698993, -0.41042992, -0.40653763, -0.41005103,\n",
       "       -0.40589789, -0.40943257, -0.40472123, -0.40751074, -0.40149002,\n",
       "       -0.39912071, -0.38372273, -0.39172937, -0.44708193, -0.46142746,\n",
       "       -0.40528074, -0.39502738, -0.40547538, -0.44488582, -0.45325912,\n",
       "       -0.40166518, -0.39364815, -0.38951001, -0.41428739, -0.43174149,\n",
       "       -0.40371049, -0.40173498, -0.40022947, -0.39882097, -0.39478444,\n",
       "       -0.38467075, -0.37991096, -0.38194256, -0.40725773, -0.48597045,\n",
       "       -0.42507568, -0.43232582, -0.40332906, -0.40318442, -0.40297898,\n",
       "       -0.40289852, -0.40270237, -0.40272438, -0.40251455, -0.40269301,\n",
       "       -0.40240541, -0.40280887, -0.4024462 , -0.4031406 , -0.40264835,\n",
       "       -0.40388857, -0.40310688, -0.40515909, -0.40343022, -0.40599859,\n",
       "       -0.40355436, -0.40649515, -0.40359287, -0.40667428, -0.40348821,\n",
       "       -0.40672764, -0.40340648, -0.40687418, -0.40320141, -0.40665216,\n",
       "       -0.40306708, -0.4065603 , -0.40288389, -0.40636677, -0.40271171,\n",
       "       -0.40626289, -0.40264648, -0.40633302, -0.4025854 , -0.40637932,\n",
       "       -0.402351  , -0.40599283, -0.40228087, -0.40608152, -0.40211769,\n",
       "       -0.40598883, -0.40205077, -0.40602329, -0.40188616, -0.40587898,\n",
       "       -0.40178105, -0.40585139, -0.40161766, -0.40569487, -0.40147421,\n",
       "       -0.4055148 , -0.40131644, -0.40531181, -0.40134366, -0.40562593,\n",
       "       -0.40109817, -0.40529606, -0.40100219, -0.40527472, -0.40090096,\n",
       "       -0.40525239, -0.40078068, -0.40530174, -0.4005989 , -0.4051943 ,\n",
       "       -0.40032727, -0.40490527, -0.39994731, -0.40444746, -0.39917564,\n",
       "       -0.40314863, -0.39629859, -0.39575474, -0.37745414, -0.39150358,\n",
       "       -0.45787371, -0.47250632, -0.42058788, -0.40152372, -0.39383806,\n",
       "       -0.39793304, -0.43638229, -0.45984978, -0.47397301, -0.40841385,\n",
       "       -0.40323745, -0.40508406, -0.40003785, -0.40265466, -0.39967882,\n",
       "       -0.40221714, -0.39952459, -0.40217192, -0.39945563, -0.4022794 ,\n",
       "       -0.39944079, -0.40242895, -0.39937491, -0.40234908, -0.39930652,\n",
       "       -0.40245131, -0.39908512, -0.4020891 , -0.39912216, -0.40247874,\n",
       "       -0.39906886, -0.40240047, -0.39896791, -0.4023581 , -0.39881606,\n",
       "       -0.40213966, -0.39868771, -0.40217608, -0.3984342 , -0.40186369,\n",
       "       -0.39834774, -0.40193088, -0.39809853, -0.40159715, -0.39792079,\n",
       "       -0.40144407, -0.39760413, -0.40103813, -0.39705681, -0.40019162,\n",
       "       -0.39542506, -0.39680728, -0.38623923, -0.38941342, -0.40968525,\n",
       "       -0.41894069, -0.37951013, -0.37689255, -0.3885246 , -0.43993488,\n",
       "       -0.45492613, -0.40925885, -0.38625046, -0.38772738, -0.41472507,\n",
       "       -0.40878806, -0.37379498, -0.37299287, -0.37492162, -0.38954033,\n",
       "       -0.44103107, -0.45390435, -0.40948908, -0.39258681, -0.38283207,\n",
       "       -0.38822843, -0.40610788, -0.43631367, -0.45401465, -0.40732398,\n",
       "       -0.3963857 , -0.39481654, -0.39449086, -0.39449189, -0.39418278,\n",
       "       -0.39423743, -0.39380032, -0.39370854, -0.39269196, -0.39150347,\n",
       "       -0.38677734, -0.37733555, -0.37194111, -0.37430541, -0.39146767,\n",
       "       -0.42929974, -0.41226013, -0.41849193, -0.39488426, -0.39491232,\n",
       "       -0.39464822, -0.39502354, -0.39479924, -0.39546307, -0.39505765,\n",
       "       -0.39605344, -0.39535071, -0.39674   , -0.39577624, -0.39755222,\n",
       "       -0.39575351, -0.39759566, -0.39578249, -0.39782905, -0.39595019,\n",
       "       -0.39820289, -0.39597719, -0.39825552, -0.39579019, -0.39804328,\n",
       "       -0.39568041, -0.39794701, -0.39559997, -0.39791325, -0.39543151,\n",
       "       -0.39766853, -0.39536647, -0.39768584, -0.39521062, -0.39750278,\n",
       "       -0.39499963, -0.39721694, -0.39471447, -0.3968011 , -0.39412158,\n",
       "       -0.39571031, -0.39175305, -0.39023678, -0.37732983, -0.38650235,\n",
       "       -0.41932108, -0.43182425, -0.38887054, -0.37339999, -0.37169237,\n",
       "       -0.3722525 , -0.38086733, -0.40667527, -0.42807215, -0.44340424,\n",
       "       -0.40347122, -0.39481954, -0.39304976, -0.39275828, -0.39300209,\n",
       "       -0.39265586, -0.3930045 , -0.39253651, -0.39293047, -0.39231137,\n",
       "       -0.39258009, -0.39127004, -0.39035234, -0.38477945, -0.37581883,\n",
       "       -0.37035302, -0.37393736, -0.39243694, -0.41131726, -0.39866701,\n",
       "       -0.39754764, -0.39402069, -0.39565469, -0.39132371, -0.389765  ,\n",
       "       -0.37928876, -0.37921567, -0.39548307, -0.39954496, -0.38019879,\n",
       "       -0.37479291, -0.38714125, -0.40364959, -0.4021785 , -0.40545927,\n",
       "       -0.39185274, -0.39119359, -0.38669128, -0.37920796, -0.36862557,\n",
       "       -0.3688157 , -0.37130895, -0.38192686, -0.41441275, -0.42171244,\n",
       "       -0.37778393, -0.36916992, -0.36837527, -0.36936763, -0.37518659,\n",
       "       -0.40315775, -0.40468449, -0.37274105, -0.36913286, -0.37725242,\n",
       "       -0.40009881, -0.426739  , -0.43837868, -0.40144898, -0.3932079 ,\n",
       "       -0.39219582, -0.3917018 , -0.39167622, -0.39116724, -0.39101836,\n",
       "       -0.39010423, -0.38893423, -0.38539322, -0.37735318, -0.36707664,\n",
       "       -0.3668722 , -0.36712421, -0.36928066, -0.37851147, -0.41078944,\n",
       "       -0.4146974 , -0.3729378 , -0.36918865, -0.37494974, -0.40272369,\n",
       "       -0.4018723 , -0.36864036, -0.36606953, -0.36591275, -0.36694237,\n",
       "       -0.37259691, -0.40025115, -0.39868938, -0.37014892, -0.36977848,\n",
       "       -0.39016489, -0.39944567, -0.39778524, -0.39566712, -0.38810842,\n",
       "       -0.38105189, -0.36561917, -0.36699006, -0.37571762, -0.39775436,\n",
       "       -0.42303383, -0.43276805, -0.3975849 , -0.39205616, -0.39175695,\n",
       "       -0.39122172, -0.39120483, -0.39064364, -0.3904642 , -0.38966141,\n",
       "       -0.38875972, -0.38609034, -0.37969696, -0.36648675, -0.36708521,\n",
       "       -0.37519251, -0.39303226, -0.41645638, -0.42530415, -0.39288392,\n",
       "       -0.3893271 , -0.38782021, -0.38334373, -0.37358243, -0.36531939,\n",
       "       -0.36582232, -0.36918733, -0.38575496, -0.39615804, -0.39734928,\n",
       "       -0.39564422, -0.38489739, -0.37583533, -0.36484281, -0.36439631,\n",
       "       -0.36432519, -0.36484292, -0.36844239, -0.38226435, -0.41860389,\n",
       "       -0.4261406 , -0.38731712, -0.3684172 , -0.36976223, -0.38879966,\n",
       "       -0.39030951, -0.38615526, -0.37313757, -0.36432069, -0.36564019,\n",
       "       -0.37417755, -0.3913808 , -0.41628962, -0.42287422, -0.39175898,\n",
       "       -0.38845491, -0.38623066, -0.38000228, -0.36771721, -0.36395472,\n",
       "       -0.36443098, -0.36805367, -0.38580993, -0.39238276, -0.39422072,\n",
       "       -0.38794857, -0.37054575, -0.37384877, -0.39757438, -0.39178065,\n",
       "       -0.3639458 , -0.36305441, -0.3629411 , -0.36346653, -0.3669432 ,\n",
       "       -0.38468726, -0.3937399 , -0.39886912, -0.39635896, -0.38456576,\n",
       "       -0.37490589, -0.36280436, -0.36250197, -0.36244259, -0.36293528,\n",
       "       -0.36619881, -0.38336167, -0.39481799, -0.4013879 , -0.40023287,\n",
       "       -0.38885266, -0.38608754, -0.37641524, -0.36587582, -0.36568909,\n",
       "       -0.37597811, -0.40790326, -0.40790773, -0.36734903, -0.36338951,\n",
       "       -0.36647477, -0.37692441, -0.41049528, -0.41157806, -0.37093986,\n",
       "       -0.36346514, -0.367867  , -0.38020649, -0.41333573, -0.4163283 ,\n",
       "       -0.37926018, -0.36333059, -0.36329228, -0.36891083, -0.38189923,\n",
       "       -0.41291451, -0.41559933, -0.38080913, -0.36585443, -0.36478888,\n",
       "       -0.37499413, -0.38671886, -0.40752038, -0.40793295, -0.38249608,\n",
       "       -0.37200564, -0.3623656 , -0.36315015, -0.36757379, -0.38597479,\n",
       "       -0.38525653, -0.38272268, -0.36918268, -0.36394805, -0.37186545,\n",
       "       -0.39935672, -0.39178893, -0.36230165, -0.36149118, -0.36272968,\n",
       "       -0.36992792, -0.38318043, -0.41259227, -0.41404885, -0.38266317,\n",
       "       -0.370713  , -0.36289962, -0.3670784 , -0.37860121, -0.40923607,\n",
       "       -0.40820271, -0.37157561, -0.36194199, -0.36409662, -0.37133759,\n",
       "       -0.39736158, -0.38855727, -0.36145483, -0.36056652, -0.36034034,\n",
       "       -0.36020851, -0.36020445, -0.36075658, -0.36427998, -0.37678112,\n",
       "       -0.41331742, -0.41245803, -0.37246499, -0.36110659, -0.36281208,\n",
       "       -0.36966529, -0.39705201, -0.38748036, -0.36072724, -0.35980222])"
      ]
     },
     "execution_count": 390,
     "metadata": {},
     "output_type": "execute_result"
    }
   ],
   "source": [
    "nn_model4.fitness_curve"
   ]
  },
  {
   "cell_type": "code",
   "execution_count": 391,
   "metadata": {},
   "outputs": [
    {
     "name": "stdout",
     "output_type": "stream",
     "text": [
      "0.8210034879189554\n",
      "0.8190274995774889\n"
     ]
    }
   ],
   "source": [
    "print(f1_score(y_train_hot,nn_model4.predict(X_train_adult),average='weighted'))\n",
    "print(f1_score(y_test_hot,nn_model4.predict(X_test_adult),average='weighted'))\n"
   ]
  },
  {
   "cell_type": "code",
   "execution_count": 17,
   "metadata": {},
   "outputs": [
    {
     "data": {
      "image/png": "[encoded data removed]",
      "text/plain": [
       "<Figure size 432x288 with 1 Axes>"
      ]
     },
     "metadata": {
      "needs_background": "light"
     },
     "output_type": "display_data"
    }
   ],
   "source": [
    "####learning curve\n",
    "\n",
    "fit_1 = nn_model1.fitness_curve\n",
    "fit_2 = nn_model2.fitness_curve\n",
    "fit_3 = nn_model3.fitness_curve\n",
    "fit_4 = nn_model4.fitness_curve\n",
    "\n",
    "plt.plot(fit_1[:,0],label='RHC')\n",
    "plt.plot(fit_2[:,0],label='SA')\n",
    "plt.plot(fit_3[:,0],label='GA')\n",
    "plt.plot(-fit_4,label='GD')\n",
    "#,5000)\n",
    "plt.legend()\n",
    "plt.title('Learning Curve of Diffent Optimizer')\n",
    "plt.xlabel('Iteration')\n",
    "plt.ylabel('Log Loss')\n",
    "plt.savefig('Figure_17.png')\n"
   ]
  },
  {
   "cell_type": "code",
   "execution_count": 28,
   "metadata": {},
   "outputs": [
    {
     "data": {
      "image/png": "[encoded data removed]",
      "text/plain": [
       "<Figure size 432x288 with 1 Axes>"
      ]
     },
     "metadata": {
      "needs_background": "light"
     },
     "output_type": "display_data"
    }
   ],
   "source": [
    "plt.scatter(0,RHC_time)\n",
    "plt.scatter(1,SA_time)\n",
    "plt.scatter(2,GA_time)\n",
    "plt.scatter(3,gd_time)\n",
    "plt.xticks([0,1,2,3],['RHC','SA','GA','GD'])\n",
    "plt.title('Run Time of Each Optimizer on NN')\n",
    "plt.ylabel('Time(s)')\n",
    "plt.savefig('Figure_18.png')"
   ]
  },
  {
   "cell_type": "code",
   "execution_count": 32,
   "metadata": {},
   "outputs": [
    {
     "data": {
      "image/png": "[encoded data removed]",
      "text/plain": [
       "<Figure size 432x288 with 1 Axes>"
      ]
     },
     "metadata": {
      "needs_background": "light"
     },
     "output_type": "display_data"
    }
   ],
   "source": [
    "score = [f1_score(y_train_hot,nn_model1.predict(X_train_adult),average='weighted'),f1_score(y_test_hot,nn_model1.predict(X_test_adult),average='weighted'),f1_score(y_train_hot,nn_model2.predict(X_train_adult),average='weighted'),f1_score(y_test_hot,nn_model2.predict(X_test_adult),average='weighted'),f1_score(y_train_hot,nn_model3.predict(X_train_adult),average='weighted'),f1_score(y_test_hot,nn_model3.predict(X_test_adult),average='weighted'),f1_score(y_train_hot,nn_model4.predict(X_train_adult),average='weighted'),f1_score(y_test_hot,nn_model4.predict(X_test_adult),average='weighted')]\n",
    "score_label = ['RHC_In','RHC_Out','SA_In','SA_Out','GA_In','GA_Out','GD_In','GD_Out']\n",
    "plt.plot([0,1,2,3,4,5,6,7],score)\n",
    "plt.xticks([0,1,2,3,4,5,6,7],score_label)\n",
    "plt.title('In/Out of Sample Performance of Each Model')\n",
    "plt.ylabel('Weighted F1 Score')\n",
    "plt.savefig('Figure_19.png')"
   ]
  }
 ],
 "metadata": {
  "kernelspec": {
   "display_name": "Python 3.10.4 ('playground')",
   "language": "python",
   "name": "python3"
  },
  "language_info": {
   "codemirror_mode": {
    "name": "ipython",
    "version": 3
   },
   "file_extension": ".py",
   "mimetype": "text/x-python",
   "name": "python",
   "nbconvert_exporter": "python",
   "pygments_lexer": "ipython3",
   "version": "3.10.4"
  },
  "orig_nbformat": 4,
  "vscode": {
   "interpreter": {
    "hash": "b39aad6035a718bc641f6986b99372df90eb9be55aa6d3ef55a2abc588be930b"
   }
  }
 },
 "nbformat": 4,
 "nbformat_minor": 2
}
